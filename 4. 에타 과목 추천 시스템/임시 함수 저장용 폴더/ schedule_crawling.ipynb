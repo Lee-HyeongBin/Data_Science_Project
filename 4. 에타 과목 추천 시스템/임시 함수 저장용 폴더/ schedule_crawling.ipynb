{
 "cells": [
  {
   "cell_type": "markdown",
   "metadata": {},
   "source": [
    "# 라이브러리 호출"
   ]
  },
  {
   "cell_type": "code",
   "execution_count": null,
   "metadata": {
    "ExecuteTime": {
     "end_time": "2021-04-01T13:05:43.411959Z",
     "start_time": "2021-04-01T13:05:41.682650Z"
    }
   },
   "outputs": [],
   "source": [
    "from selenium import webdriver\n",
    "from bs4 import BeautifulSoup\n",
    "import pandas as pd\n",
    "import numpy as np\n",
    "from tqdm.notebook import tqdm\n",
    "import time\n",
    "import os"
   ]
  },
  {
   "cell_type": "code",
   "execution_count": null,
   "metadata": {
    "ExecuteTime": {
     "end_time": "2021-04-01T13:05:43.511691Z",
     "start_time": "2021-04-01T13:05:43.502717Z"
    }
   },
   "outputs": [],
   "source": [
    "from selenium.common.exceptions import NoSuchElementException, ElementNotInteractableException"
   ]
  },
  {
   "cell_type": "markdown",
   "metadata": {},
   "source": [
    "# 데이터 수집"
   ]
  },
  {
   "cell_type": "markdown",
   "metadata": {},
   "source": [
    "## 크롬 드라이버 생성"
   ]
  },
  {
   "cell_type": "code",
   "execution_count": null,
   "metadata": {
    "ExecuteTime": {
     "end_time": "2021-04-01T13:05:51.297824Z",
     "start_time": "2021-04-01T13:05:43.593473Z"
    }
   },
   "outputs": [],
   "source": [
    "url = 'https://everytime.kr/timetable'\n",
    "driver = webdriver.Chrome('./driver/chromedriver.exe')\n",
    "driver.maximize_window()\n",
    "driver.get(url)\n",
    "time.sleep(3)"
   ]
  },
  {
   "cell_type": "markdown",
   "metadata": {},
   "source": [
    "## 에브리타임 로그인"
   ]
  },
  {
   "cell_type": "code",
   "execution_count": null,
   "metadata": {
    "ExecuteTime": {
     "end_time": "2021-04-01T13:06:01.432107Z",
     "start_time": "2021-04-01T13:05:51.402585Z"
    }
   },
   "outputs": [],
   "source": [
    "user_id = input('에브리타임 아이디를 입력해주세요.: ')\n",
    "et_login = driver.find_element_by_name(\"userid\")\n",
    "et_login.clear()\n",
    "et_login.send_keys(user_id)\n",
    "\n",
    "user_pw = input('에브리타임 비밀번호를 입력해주세요.: ')\n",
    "et_login = driver.find_element_by_name(\"password\")\n",
    "et_login.clear()\n",
    "et_login.send_keys(user_pw)\n",
    "\n",
    "driver.find_element_by_xpath(\"\"\"//*[@id=\"container\"]/form/p[3]/input\"\"\").click()\n",
    "time.sleep(3)"
   ]
  },
  {
   "cell_type": "code",
   "execution_count": null,
   "metadata": {
    "ExecuteTime": {
     "end_time": "2021-04-01T13:06:01.456834Z",
     "start_time": "2021-04-01T13:06:01.446863Z"
    }
   },
   "outputs": [],
   "source": [
    "def delete_adv_1():\n",
    "    while True: # 광고 제거\n",
    "        try:\n",
    "            driver.find_element_by_xpath(\"\"\"//*[@id=\"sheet\"]/ul/li[3]/a\"\"\").click()\n",
    "            time.sleep(1.5)\n",
    "            break\n",
    "        except:\n",
    "            continue"
   ]
  },
  {
   "cell_type": "code",
   "execution_count": null,
   "metadata": {
    "ExecuteTime": {
     "end_time": "2021-04-01T13:06:01.473160Z",
     "start_time": "2021-04-01T13:06:01.464812Z"
    }
   },
   "outputs": [],
   "source": [
    "def delete_adv_2():\n",
    "    try:\n",
    "        driver.find_element_by_xpath(\"\"\"//*[@id=\"sheet\"]/ul/li[3]/a\"\"\").click()\n",
    "    except:\n",
    "        pass\n",
    "    return"
   ]
  },
  {
   "cell_type": "code",
   "execution_count": null,
   "metadata": {
    "ExecuteTime": {
     "end_time": "2021-04-01T13:06:03.151304Z",
     "start_time": "2021-04-01T13:06:01.482763Z"
    }
   },
   "outputs": [],
   "source": [
    "delete_adv_1()"
   ]
  },
  {
   "cell_type": "markdown",
   "metadata": {},
   "source": [
    "## 연도/학기 시간표 데이터 수집 함수 정의"
   ]
  },
  {
   "cell_type": "code",
   "execution_count": null,
   "metadata": {
    "ExecuteTime": {
     "end_time": "2021-04-01T13:06:03.450504Z",
     "start_time": "2021-04-01T13:06:03.419701Z"
    }
   },
   "outputs": [],
   "source": [
    "def make_course_by_semester(year, semester, start, end):\n",
    "    text_file = list(pd.read_csv('./course_lst/' + 'course_lst_' + str(year)[2:] + '_' + str(semester) + '.txt', sep = ',').과목명.unique())\n",
    "    result_df = pd.DataFrame(columns = ['과목번호-분반', '과목명', '교수', '학점', '수업시간/강의실', '학년', '강의평', '담은 인원', '비고'])\n",
    "    fault_lst = []\n",
    "    \n",
    "    delete_adv_2()\n",
    "    driver.get(url + '/' + str(year) + '/' + str(semester))\n",
    "    time.sleep(2.5)\n",
    "    driver.find_element_by_xpath('//*[@id=\"container\"]/ul/li[1]').click()\n",
    "    time.sleep(3)\n",
    "    delete_adv_2()\n",
    "    time.sleep(1)\n",
    "    \n",
    "    for name in tqdm(text_file[start:end]):\n",
    "        # 1. 테이블 정보 가져오기\n",
    "        try:\n",
    "            driver.find_element_by_xpath('//*[@id=\"subjects\"]/div[1]/a[4]').click()\n",
    "            time.sleep(1)\n",
    "            print(\"현재 검색중인 과목 이름 : {}\".format(name))\n",
    "            print()\n",
    "            course_search = driver.find_element_by_xpath('//*[@id=\"subjectKeywordFilter\"]/div/input')\n",
    "            course_search.clear()\n",
    "            time.sleep(0.5)\n",
    "            course_search.send_keys(name)\n",
    "        except ElementNotInteractableException or NoSuchElementException or ElementClickInterceptedException:\n",
    "            fault_lst.append(name)\n",
    "            continue\n",
    "        \n",
    "        time.sleep(0.5)\n",
    "        driver.find_element_by_xpath('//*[@id=\"subjectKeywordFilter\"]/input').click()\n",
    "        time.sleep(2.5)\n",
    "        \n",
    "        # 2. bs4로 parsing하기\n",
    "        page = driver.page_source\n",
    "        soup = BeautifulSoup(page, \"html.parser\")\n",
    "        contents = []\n",
    "        tmp = soup.find('div','list').find('tbody').find_all('td')\n",
    "        \n",
    "        for i in tmp:\n",
    "            tmp = i.get_text()\n",
    "            contents.append(tmp)\n",
    "        contents = np.array(contents)\n",
    "        column = []\n",
    "        tmp = soup.find('div','list').find('thead').find_all('th')\n",
    "        \n",
    "        for k in tmp:\n",
    "            tmp = str(k).lstrip('<th>').split('<div>')\n",
    "            column.append(tmp[0])\n",
    "        \n",
    "        # 3. 데이터프레임 반환\n",
    "        timetable = pd.DataFrame(contents.reshape(len(contents)//9,9), columns=column)\n",
    "        \n",
    "        # 4. 데이터프레임 병합\n",
    "        result_df = result_df.append(timetable)\n",
    "        \n",
    "    # 데이터프레임 중복 제거\n",
    "    result_df.drop_duplicates(['과목번호-분반', '과목명'], inplace = True)\n",
    "        \n",
    "    return result_df, fault_lst"
   ]
  },
  {
   "cell_type": "code",
   "execution_count": null,
   "metadata": {
    "ExecuteTime": {
     "end_time": "2021-04-01T13:06:03.621220Z",
     "start_time": "2021-04-01T13:06:03.587141Z"
    }
   },
   "outputs": [],
   "source": [
    "def fault_course(year, semester, lst):\n",
    "    text_file = lst\n",
    "    result_df = pd.DataFrame(columns = ['과목번호-분반', '과목명', '교수', '학점', '수업시간/강의실', '학년', '강의평', '담은 인원', '비고'])\n",
    "    \n",
    "    for name in tqdm(text_file):\n",
    "        print(\"(실패했던) 현재 검색중인 과목 이름 : {}\".format(name))\n",
    "        print()\n",
    "        \n",
    "        # 1. 테이블 정보 가져오기\n",
    "        driver.get(url + '/' + str(year) + '/' + str(semester))\n",
    "        time.sleep(3)\n",
    "        delete_adv_2()\n",
    "        time.sleep(1)\n",
    "        driver.find_element_by_xpath('//*[@id=\"container\"]/ul/li[1]').click()\n",
    "        time.sleep(3)\n",
    "        \n",
    "        try:\n",
    "            delete_adv_2()\n",
    "            time.sleep(1)\n",
    "            driver.find_element_by_xpath('//*[@id=\"subjects\"]/div[1]/a[4]').click()\n",
    "            time.sleep(3)\n",
    "            course_search = driver.find_element_by_xpath('//*[@id=\"subjectKeywordFilter\"]/div/input')\n",
    "            course_search.send_keys(name)\n",
    "        except ElementNotInteractableException or NoSuchElementException:\n",
    "            print(\"또 실패 ?\", name)\n",
    "            continue\n",
    "        \n",
    "        time.sleep(1.5)\n",
    "        driver.find_element_by_xpath('//*[@id=\"subjectKeywordFilter\"]/input').click()\n",
    "        time.sleep(2)\n",
    "        \n",
    "        # 2. bs4로 parsing하기\n",
    "        page = driver.page_source\n",
    "        soup = BeautifulSoup(page, \"html.parser\")\n",
    "        contents = []\n",
    "        tmp = soup.find('div','list').find('tbody').find_all('td')\n",
    "        \n",
    "        for i in tmp:\n",
    "            tmp = i.get_text()\n",
    "            contents.append(tmp)\n",
    "        contents = np.array(contents)\n",
    "        column = []\n",
    "        tmp = soup.find('div','list').find('thead').find_all('th')\n",
    "        \n",
    "        for k in tmp:\n",
    "            tmp = str(k).lstrip('<th>').split('<div>')\n",
    "            column.append(tmp[0])\n",
    "        \n",
    "        # 3. 데이터프레임 반환\n",
    "        timetable = pd.DataFrame(contents.reshape(len(contents)//9,9), columns=column)\n",
    "        \n",
    "        # 4. 데이터프레임 병합\n",
    "        result_df = result_df.append(timetable)\n",
    "        \n",
    "    # 데이터프레임 중복 제거\n",
    "    result_df.drop_duplicates(['과목번호-분반', '과목명'], inplace = True)\n",
    "        \n",
    "    return result_df"
   ]
  },
  {
   "cell_type": "markdown",
   "metadata": {},
   "source": [
    "## 데이터 크롤링 시작"
   ]
  },
  {
   "cell_type": "markdown",
   "metadata": {},
   "source": [
    "### 2016년 1학기 (완료)"
   ]
  },
  {
   "cell_type": "code",
   "execution_count": null,
   "metadata": {
    "ExecuteTime": {
     "end_time": "2021-04-01T11:59:17.513390Z",
     "start_time": "2021-04-01T11:02:17.663209Z"
    }
   },
   "outputs": [],
   "source": [
    "# 빈 데이터프레임 생성 (칼럼)\n",
    "result_2016_1 = pd.DataFrame(columns = ['과목번호-분반', '과목명', '교수', '학점', '수업시간/강의실', '학년', '강의평', '담은 인원', '비고'])\n",
    "input_len = len(list(pd.read_csv('./course_lst/' + 'course_lst_16_1.txt', sep = ',').과목명.unique()))\n",
    "print(input_len)\n",
    "\n",
    "# 결과 반환\n",
    "tmp, fault = make_course_by_semester(2016, 1, 0, 300)\n",
    "# 실패한 리스트 다시 시도\n",
    "fault_result = fault_course(2016, 1, fault)\n",
    "# 결과 병합\n",
    "result = pd.DataFrame(columns = ['과목번호-분반', '과목명', '교수', '학점', '수업시간/강의실', '학년', '강의평', '담은 인원', '비고'])\n",
    "result = result.append(tmp)\n",
    "# 두 데이터 병합\n",
    "result = result.append(fault_result)\n",
    "result_2016_1 = result_2016_1.append(result)\n",
    "\n",
    "# 결과 반환\n",
    "tmp, fault = make_course_by_semester(2016, 1, 300, 600)\n",
    "# 실패한 리스트 다시 시도\n",
    "fault_result = fault_course(2016, 1, fault)\n",
    "# 결과 병합\n",
    "result = pd.DataFrame(columns = ['과목번호-분반', '과목명', '교수', '학점', '수업시간/강의실', '학년', '강의평', '담은 인원', '비고'])\n",
    "result = result.append(tmp)\n",
    "# 두 데이터 병합\n",
    "result = result.append(fault_result)\n",
    "result_2016_1 = result_2016_1.append(result)\n",
    "\n",
    "# 결과 반환\n",
    "tmp, fault = make_course_by_semester(2016, 1, 600, input_len)\n",
    "# 실패한 리스트 다시 시도\n",
    "fault_result = fault_course(2016, 1, fault)\n",
    "# 결과 병합\n",
    "result = pd.DataFrame(columns = ['과목번호-분반', '과목명', '교수', '학점', '수업시간/강의실', '학년', '강의평', '담은 인원', '비고'])\n",
    "result = result.append(tmp)\n",
    "# 두 데이터 병합\n",
    "result = result.append(fault_result)\n",
    "result_2016_1 = result_2016_1.append(result)\n",
    "\n",
    "# 최종 데이터 프레임 생성\n",
    "result_2016_1.drop_duplicates(['과목번호-분반', '과목명'], inplace = True)\n",
    "result_2016_1\n",
    "result_2016_1.to_csv('2016_1.csv', encoding = 'UTF-8-SIG', index = False)"
   ]
  },
  {
   "cell_type": "markdown",
   "metadata": {},
   "source": [
    "### 2016년 2학기 (완료)"
   ]
  },
  {
   "cell_type": "code",
   "execution_count": null,
   "metadata": {
    "ExecuteTime": {
     "end_time": "2021-04-01T12:24:32.263199Z",
     "start_time": "2021-04-01T11:59:17.916359Z"
    }
   },
   "outputs": [],
   "source": [
    "# 빈 데이터프레임 생성 (칼럼)\n",
    "result_2016_2 = pd.DataFrame(columns = ['과목번호-분반', '과목명', '교수', '학점', '수업시간/강의실', '학년', '강의평', '담은 인원', '비고'])\n",
    "input_len = len(list(pd.read_csv('./course_lst/' + 'course_lst_16_2.txt', sep = ',').과목명.unique()))\n",
    "print(input_len)\n",
    "\n",
    "# 결과 반환\n",
    "tmp, fault = make_course_by_semester(2016, 2, 0, 300)\n",
    "# 실패한 리스트 다시 시도\n",
    "fault_result = fault_course(2016, 2, fault)\n",
    "# 결과 병합\n",
    "result = pd.DataFrame(columns = ['과목번호-분반', '과목명', '교수', '학점', '수업시간/강의실', '학년', '강의평', '담은 인원', '비고'])\n",
    "result = result.append(tmp)\n",
    "# 두 데이터 병합\n",
    "result = result.append(fault_result)\n",
    "result_2016_2 = result_2016_2.append(result)\n",
    "\n",
    "# 결과 반환\n",
    "tmp, fault = make_course_by_semester(2016, 2, 300, 600)\n",
    "# 실패한 리스트 다시 시도\n",
    "fault_result = fault_course(2016, 2, fault)\n",
    "# 결과 병합\n",
    "result = pd.DataFrame(columns = ['과목번호-분반', '과목명', '교수', '학점', '수업시간/강의실', '학년', '강의평', '담은 인원', '비고'])\n",
    "result = result.append(tmp)\n",
    "# 두 데이터 병합\n",
    "result = result.append(fault_result)\n",
    "result_2016_2 = result_2016_2.append(result)\n",
    "\n",
    "# 결과 반환\n",
    "tmp, fault = make_course_by_semester(2016, 2, 600, input_len)\n",
    "# 실패한 리스트 다시 시도\n",
    "fault_result = fault_course(2016, 2, fault)\n",
    "# 결과 병합\n",
    "result = pd.DataFrame(columns = ['과목번호-분반', '과목명', '교수', '학점', '수업시간/강의실', '학년', '강의평', '담은 인원', '비고'])\n",
    "result = result.append(tmp)\n",
    "# 두 데이터 병합\n",
    "result = result.append(fault_result)\n",
    "result_2016_2 = result_2016_2.append(result)\n",
    "\n",
    "# 최종 데이터 프레임 생성\n",
    "result_2016_2.drop_duplicates(['과목번호-분반', '과목명'], inplace = True)\n",
    "result_2016_2\n",
    "result_2016_2.to_csv('2016_2.csv', encoding = 'UTF-8-SIG', index = False)"
   ]
  },
  {
   "cell_type": "markdown",
   "metadata": {},
   "source": [
    "### 2017년 1학기"
   ]
  },
  {
   "cell_type": "code",
   "execution_count": null,
   "metadata": {
    "ExecuteTime": {
     "end_time": "2021-04-01T13:06:32.772905Z",
     "start_time": "2021-04-01T13:06:13.253301Z"
    }
   },
   "outputs": [],
   "source": [
    "# 빈 데이터프레임 생성 (칼럼)\n",
    "result_2017_1 = pd.DataFrame(columns = ['과목번호-분반', '과목명', '교수', '학점', '수업시간/강의실', '학년', '강의평', '담은 인원', '비고'])\n",
    "input_len = len(list(pd.read_csv('./course_lst/' + 'course_lst_17_1.txt', sep = ',').과목명.unique()))\n",
    "print(input_len)\n",
    "\n",
    "# 결과 반환\n",
    "tmp, fault = make_course_by_semester(2017, 1, 0, 300)\n",
    "# 실패한 리스트 다시 시도\n",
    "fault_result = fault_course(2017, 1, fault)\n",
    "# 결과 병합\n",
    "result = pd.DataFrame(columns = ['과목번호-분반', '과목명', '교수', '학점', '수업시간/강의실', '학년', '강의평', '담은 인원', '비고'])\n",
    "result = result.append(tmp)\n",
    "# 두 데이터 병합\n",
    "result = result.append(fault_result)\n",
    "result_2017_1 = result_2017_1.append(result)\n",
    "\n",
    "# 결과 반환\n",
    "tmp, fault = make_course_by_semester(2017, 1, 300, 600)\n",
    "# 실패한 리스트 다시 시도\n",
    "fault_result = fault_course(2017, 1, fault)\n",
    "# 결과 병합\n",
    "result = pd.DataFrame(columns = ['과목번호-분반', '과목명', '교수', '학점', '수업시간/강의실', '학년', '강의평', '담은 인원', '비고'])\n",
    "result = result.append(tmp)\n",
    "# 두 데이터 병합\n",
    "result = result.append(fault_result)\n",
    "result_2017_1 = result_2017_1.append(result)\n",
    "\n",
    "# 결과 반환\n",
    "tmp, fault = make_course_by_semester(2017, 1, 600, input_len)\n",
    "# 실패한 리스트 다시 시도\n",
    "fault_result = fault_course(2017, 1, fault)\n",
    "# 결과 병합\n",
    "result = pd.DataFrame(columns = ['과목번호-분반', '과목명', '교수', '학점', '수업시간/강의실', '학년', '강의평', '담은 인원', '비고'])\n",
    "result = result.append(tmp)\n",
    "# 두 데이터 병합\n",
    "result = result.append(fault_result)\n",
    "result_2017_1 = result_2017_1.append(result)\n",
    "\n",
    "# 최종 데이터 프레임 생성\n",
    "result_2017_1.drop_duplicates(['과목번호-분반', '과목명'], inplace = True)\n",
    "result_2017_1\n",
    "result_2017_1.to_csv('2017_1.csv', encoding = 'UTF-8-SIG', index = False)"
   ]
  },
  {
   "cell_type": "markdown",
   "metadata": {},
   "source": [
    "### 2017년 2학기"
   ]
  },
  {
   "cell_type": "code",
   "execution_count": null,
   "metadata": {
    "ExecuteTime": {
     "end_time": "2021-04-01T13:06:38.138570Z",
     "start_time": "2021-04-01T13:06:35.217372Z"
    }
   },
   "outputs": [],
   "source": [
    "# 빈 데이터프레임 생성 (칼럼)\n",
    "result_2017_2 = pd.DataFrame(columns = ['과목번호-분반', '과목명', '교수', '학점', '수업시간/강의실', '학년', '강의평', '담은 인원', '비고'])\n",
    "input_len = len(list(pd.read_csv('./course_lst/' + 'course_lst_17_2.txt', sep = ',').과목명.unique()))\n",
    "print(input_len)\n",
    "\n",
    "# 결과 반환\n",
    "tmp, fault = make_course_by_semester(2017, 2, 0, 300)\n",
    "# 실패한 리스트 다시 시도\n",
    "fault_result = fault_course(2017, 2, fault)\n",
    "# 결과 병합\n",
    "result = pd.DataFrame(columns = ['과목번호-분반', '과목명', '교수', '학점', '수업시간/강의실', '학년', '강의평', '담은 인원', '비고'])\n",
    "result = result.append(tmp)\n",
    "# 두 데이터 병합\n",
    "result = result.append(fault_result)\n",
    "result_2017_2 = result_2017_2.append(result)\n",
    "\n",
    "# 결과 반환\n",
    "tmp, fault = make_course_by_semester(2017, 2, 300, 600)\n",
    "# 실패한 리스트 다시 시도\n",
    "fault_result = fault_course(2017, 2, fault)\n",
    "# 결과 병합\n",
    "result = pd.DataFrame(columns = ['과목번호-분반', '과목명', '교수', '학점', '수업시간/강의실', '학년', '강의평', '담은 인원', '비고'])\n",
    "result = result.append(tmp)\n",
    "# 두 데이터 병합\n",
    "result = result.append(fault_result)\n",
    "result_2017_2 = result_2017_2.append(result)\n",
    "\n",
    "# 결과 반환\n",
    "tmp, fault = make_course_by_semester(2017, 2, 600, input_len)\n",
    "# 실패한 리스트 다시 시도\n",
    "fault_result = fault_course(2017, 2, fault)\n",
    "# 결과 병합\n",
    "result = pd.DataFrame(columns = ['과목번호-분반', '과목명', '교수', '학점', '수업시간/강의실', '학년', '강의평', '담은 인원', '비고'])\n",
    "result = result.append(tmp)\n",
    "# 두 데이터 병합\n",
    "result = result.append(fault_result)\n",
    "result_2017_2 = result_2017_2.append(result)\n",
    "\n",
    "# 최종 데이터 프레임 생성\n",
    "result_2017_2.drop_duplicates(['과목번호-분반', '과목명'], inplace = True)\n",
    "result_2017_2\n",
    "result_2017_2.to_csv('2017_2.csv', encoding = 'UTF-8-SIG', index = False)"
   ]
  },
  {
   "cell_type": "markdown",
   "metadata": {},
   "source": [
    "### 2018년 1학기"
   ]
  },
  {
   "cell_type": "code",
   "execution_count": null,
   "metadata": {
    "ExecuteTime": {
     "end_time": "2021-04-01T13:06:44.607297Z",
     "start_time": "2021-04-01T13:06:41.757937Z"
    }
   },
   "outputs": [],
   "source": [
    "# 빈 데이터프레임 생성 (칼럼)\n",
    "result_2018_1 = pd.DataFrame(columns = ['과목번호-분반', '과목명', '교수', '학점', '수업시간/강의실', '학년', '강의평', '담은 인원', '비고'])\n",
    "input_len = len(list(pd.read_csv('./course_lst/' + 'course_lst_18_1.txt', sep = ',').과목명.unique()))\n",
    "print(input_len)\n",
    "\n",
    "# 결과 반환\n",
    "tmp, fault = make_course_by_semester(2018, 1, 0, 300)\n",
    "# 실패한 리스트 다시 시도\n",
    "fault_result = fault_course(2018, 1, fault)\n",
    "# 결과 병합\n",
    "result = pd.DataFrame(columns = ['과목번호-분반', '과목명', '교수', '학점', '수업시간/강의실', '학년', '강의평', '담은 인원', '비고'])\n",
    "result = result.append(tmp)\n",
    "# 두 데이터 병합\n",
    "result = result.append(fault_result)\n",
    "result_2018_1 = result_2018_1.append(result)\n",
    "\n",
    "# 결과 반환\n",
    "tmp, fault = make_course_by_semester(2018, 1, 300, 600)\n",
    "# 실패한 리스트 다시 시도\n",
    "fault_result = fault_course(2018, 1, fault)\n",
    "# 결과 병합\n",
    "result = pd.DataFrame(columns = ['과목번호-분반', '과목명', '교수', '학점', '수업시간/강의실', '학년', '강의평', '담은 인원', '비고'])\n",
    "result = result.append(tmp)\n",
    "# 두 데이터 병합\n",
    "result = result.append(fault_result)\n",
    "result_2018_1 = result_2018_1.append(result)\n",
    "\n",
    "# 결과 반환\n",
    "tmp, fault = make_course_by_semester(2018, 1, 600, input_len)\n",
    "# 실패한 리스트 다시 시도\n",
    "fault_result = fault_course(2018, 1, fault)\n",
    "# 결과 병합\n",
    "result = pd.DataFrame(columns = ['과목번호-분반', '과목명', '교수', '학점', '수업시간/강의실', '학년', '강의평', '담은 인원', '비고'])\n",
    "result = result.append(tmp)\n",
    "# 두 데이터 병합\n",
    "result = result.append(fault_result)\n",
    "result_2018_1 = result_2018_1.append(result)\n",
    "\n",
    "# 최종 데이터 프레임 생성\n",
    "result_2018_1.drop_duplicates(['과목번호-분반', '과목명'], inplace = True)\n",
    "result_2018_1\n",
    "result_2018_1.to_csv('2018_1.csv', encoding = 'UTF-8-SIG', index = False)"
   ]
  },
  {
   "cell_type": "markdown",
   "metadata": {},
   "source": [
    "### 2018년 2학기"
   ]
  },
  {
   "cell_type": "code",
   "execution_count": null,
   "metadata": {
    "ExecuteTime": {
     "end_time": "2021-04-01T13:06:49.744276Z",
     "start_time": "2021-04-01T13:06:46.627896Z"
    }
   },
   "outputs": [],
   "source": [
    "# 빈 데이터프레임 생성 (칼럼)\n",
    "result_2018_2 = pd.DataFrame(columns = ['과목번호-분반', '과목명', '교수', '학점', '수업시간/강의실', '학년', '강의평', '담은 인원', '비고'])\n",
    "input_len = len(list(pd.read_csv('./course_lst/' + 'course_lst_18_2.txt', sep = ',').과목명.unique()))\n",
    "print(input_len)\n",
    "\n",
    "# 결과 반환\n",
    "tmp, fault = make_course_by_semester(2018, 2, 0, 300)\n",
    "# 실패한 리스트 다시 시도\n",
    "fault_result = fault_course(2018, 2, fault)\n",
    "# 결과 병합\n",
    "result = pd.DataFrame(columns = ['과목번호-분반', '과목명', '교수', '학점', '수업시간/강의실', '학년', '강의평', '담은 인원', '비고'])\n",
    "result = result.append(tmp)\n",
    "# 두 데이터 병합\n",
    "result = result.append(fault_result)\n",
    "result_2018_2 = result_2018_2.append(result)\n",
    "\n",
    "# 결과 반환\n",
    "tmp, fault = make_course_by_semester(2018, 2, 300, 600)\n",
    "# 실패한 리스트 다시 시도\n",
    "fault_result = fault_course(2018, 2, fault)\n",
    "# 결과 병합\n",
    "result = pd.DataFrame(columns = ['과목번호-분반', '과목명', '교수', '학점', '수업시간/강의실', '학년', '강의평', '담은 인원', '비고'])\n",
    "result = result.append(tmp)\n",
    "# 두 데이터 병합\n",
    "result = result.append(fault_result)\n",
    "result_2018_2 = result_2018_2.append(result)\n",
    "\n",
    "# 결과 반환\n",
    "tmp, fault = make_course_by_semester(2018, 2, 600, input_len)\n",
    "# 실패한 리스트 다시 시도\n",
    "fault_result = fault_course(2018, 2, fault)\n",
    "# 결과 병합\n",
    "result = pd.DataFrame(columns = ['과목번호-분반', '과목명', '교수', '학점', '수업시간/강의실', '학년', '강의평', '담은 인원', '비고'])\n",
    "result = result.append(tmp)\n",
    "# 두 데이터 병합\n",
    "result = result.append(fault_result)\n",
    "result_2018_2 = result_2018_2.append(result)\n",
    "\n",
    "# 최종 데이터 프레임 생성\n",
    "result_2018_2.drop_duplicates(['과목번호-분반', '과목명'], inplace = True)\n",
    "result_2018_2\n",
    "result_2018_2.to_csv('2018_2.csv', encoding = 'UTF-8-SIG', index = False)"
   ]
  },
  {
   "cell_type": "markdown",
   "metadata": {},
   "source": [
    "### 2019년 1학기"
   ]
  },
  {
   "cell_type": "code",
   "execution_count": null,
   "metadata": {
    "ExecuteTime": {
     "end_time": "2021-04-01T13:06:53.560069Z",
     "start_time": "2021-04-01T13:06:50.534161Z"
    }
   },
   "outputs": [],
   "source": [
    "# 빈 데이터프레임 생성 (칼럼)\n",
    "result_2019_1 = pd.DataFrame(columns = ['과목번호-분반', '과목명', '교수', '학점', '수업시간/강의실', '학년', '강의평', '담은 인원', '비고'])\n",
    "input_len = len(list(pd.read_csv('./course_lst/' + 'course_lst_19_1.txt', sep = ',').과목명.unique()))\n",
    "print(input_len)\n",
    "\n",
    "# 결과 반환\n",
    "tmp, fault = make_course_by_semester(2019, 1, 0, 300)\n",
    "# 실패한 리스트 다시 시도\n",
    "fault_result = fault_course(2019, 1, fault)\n",
    "# 결과 병합\n",
    "result = pd.DataFrame(columns = ['과목번호-분반', '과목명', '교수', '학점', '수업시간/강의실', '학년', '강의평', '담은 인원', '비고'])\n",
    "result = result.append(tmp)\n",
    "# 두 데이터 병합\n",
    "result = result.append(fault_result)\n",
    "result_2019_1 = result_2019_1.append(result)\n",
    "\n",
    "# 결과 반환\n",
    "tmp, fault = make_course_by_semester(2019, 1, 300, 600)\n",
    "# 실패한 리스트 다시 시도\n",
    "fault_result = fault_course(2019, 1, fault)\n",
    "# 결과 병합\n",
    "result = pd.DataFrame(columns = ['과목번호-분반', '과목명', '교수', '학점', '수업시간/강의실', '학년', '강의평', '담은 인원', '비고'])\n",
    "result = result.append(tmp)\n",
    "# 두 데이터 병합\n",
    "result = result.append(fault_result)\n",
    "result_2019_1 = result_2019_1.append(result)\n",
    "\n",
    "# 결과 반환\n",
    "tmp, fault = make_course_by_semester(2019, 1, 600, input_len)\n",
    "# 실패한 리스트 다시 시도\n",
    "fault_result = fault_course(2019, 1, fault)\n",
    "# 결과 병합\n",
    "result = pd.DataFrame(columns = ['과목번호-분반', '과목명', '교수', '학점', '수업시간/강의실', '학년', '강의평', '담은 인원', '비고'])\n",
    "result = result.append(tmp)\n",
    "# 두 데이터 병합\n",
    "result = result.append(fault_result)\n",
    "result_2019_1 = result_2019_1.append(result)\n",
    "\n",
    "# 최종 데이터 프레임 생성\n",
    "result_2019_1.drop_duplicates(['과목번호-분반', '과목명'], inplace = True)\n",
    "result_2019_1\n",
    "result_2019_1.to_csv('2019_1.csv', encoding = 'UTF-8-SIG', index = False)"
   ]
  },
  {
   "cell_type": "markdown",
   "metadata": {},
   "source": [
    "### 2019년 2학기"
   ]
  },
  {
   "cell_type": "code",
   "execution_count": null,
   "metadata": {
    "ExecuteTime": {
     "end_time": "2021-04-01T13:06:57.193358Z",
     "start_time": "2021-04-01T13:06:54.175428Z"
    }
   },
   "outputs": [],
   "source": [
    "# 빈 데이터프레임 생성 (칼럼)\n",
    "result_2019_2 = pd.DataFrame(columns = ['과목번호-분반', '과목명', '교수', '학점', '수업시간/강의실', '학년', '강의평', '담은 인원', '비고'])\n",
    "input_len = len(list(pd.read_csv('./course_lst/' + 'course_lst_19_2.txt', sep = ',').과목명.unique()))\n",
    "print(input_len)\n",
    "\n",
    "# 결과 반환\n",
    "tmp, fault = make_course_by_semester(2019, 2, 0, 300)\n",
    "# 실패한 리스트 다시 시도\n",
    "fault_result = fault_course(2019, 2, fault)\n",
    "# 결과 병합\n",
    "result = pd.DataFrame(columns = ['과목번호-분반', '과목명', '교수', '학점', '수업시간/강의실', '학년', '강의평', '담은 인원', '비고'])\n",
    "result = result.append(tmp)\n",
    "# 두 데이터 병합\n",
    "result = result.append(fault_result)\n",
    "result_2019_2 = result_2019_2.append(result)\n",
    "\n",
    "# 결과 반환\n",
    "tmp, fault = make_course_by_semester(2019, 2, 300, 600)\n",
    "# 실패한 리스트 다시 시도\n",
    "fault_result = fault_course(2019, 2, fault)\n",
    "# 결과 병합\n",
    "result = pd.DataFrame(columns = ['과목번호-분반', '과목명', '교수', '학점', '수업시간/강의실', '학년', '강의평', '담은 인원', '비고'])\n",
    "result = result.append(tmp)\n",
    "# 두 데이터 병합\n",
    "result = result.append(fault_result)\n",
    "result_2019_2 = result_2019_2.append(result)\n",
    "\n",
    "# 결과 반환\n",
    "tmp, fault = make_course_by_semester(2019, 2, 600, input_len)\n",
    "# 실패한 리스트 다시 시도\n",
    "fault_result = fault_course(2019, 2, fault)\n",
    "# 결과 병합\n",
    "result = pd.DataFrame(columns = ['과목번호-분반', '과목명', '교수', '학점', '수업시간/강의실', '학년', '강의평', '담은 인원', '비고'])\n",
    "result = result.append(tmp)\n",
    "# 두 데이터 병합\n",
    "result = result.append(fault_result)\n",
    "result_2019_2 = result_2019_2.append(result)\n",
    "\n",
    "# 최종 데이터 프레임 생성\n",
    "result_2019_2.drop_duplicates(['과목번호-분반', '과목명'], inplace = True)\n",
    "result_2019_2\n",
    "result_2019_2.to_csv('2019_2.csv', encoding = 'UTF-8-SIG', index = False)"
   ]
  },
  {
   "cell_type": "markdown",
   "metadata": {},
   "source": [
    "### 2020년 1학기"
   ]
  },
  {
   "cell_type": "code",
   "execution_count": null,
   "metadata": {
    "ExecuteTime": {
     "end_time": "2021-04-01T13:07:00.411971Z",
     "start_time": "2021-04-01T13:06:57.485576Z"
    }
   },
   "outputs": [],
   "source": [
    "# 빈 데이터프레임 생성 (칼럼)\n",
    "result_2020_1 = pd.DataFrame(columns = ['과목번호-분반', '과목명', '교수', '학점', '수업시간/강의실', '학년', '강의평', '담은 인원', '비고'])\n",
    "input_len = len(list(pd.read_csv('./course_lst/' + 'course_lst_20_1.txt', sep = ',').과목명.unique()))\n",
    "print(input_len)\n",
    "\n",
    "# 결과 반환\n",
    "tmp, fault = make_course_by_semester(2020, 1, 0, 300)\n",
    "# 실패한 리스트 다시 시도\n",
    "fault_result = fault_course(2020, 1, fault)\n",
    "# 결과 병합\n",
    "result = pd.DataFrame(columns = ['과목번호-분반', '과목명', '교수', '학점', '수업시간/강의실', '학년', '강의평', '담은 인원', '비고'])\n",
    "result = result.append(tmp)\n",
    "# 두 데이터 병합\n",
    "result = result.append(fault_result)\n",
    "result_2020_1 = result_2020_1.append(result)\n",
    "\n",
    "# 결과 반환\n",
    "tmp, fault = make_course_by_semester(2020, 1, 300, 600)\n",
    "# 실패한 리스트 다시 시도\n",
    "fault_result = fault_course(2020, 1, fault)\n",
    "# 결과 병합\n",
    "result = pd.DataFrame(columns = ['과목번호-분반', '과목명', '교수', '학점', '수업시간/강의실', '학년', '강의평', '담은 인원', '비고'])\n",
    "result = result.append(tmp)\n",
    "# 두 데이터 병합\n",
    "result = result.append(fault_result)\n",
    "result_2020_1 = result_2020_1.append(result)\n",
    "\n",
    "# 결과 반환\n",
    "tmp, fault = make_course_by_semester(2020, 1, 600, input_len)\n",
    "# 실패한 리스트 다시 시도\n",
    "fault_result = fault_course(2020, 1, fault)\n",
    "# 결과 병합\n",
    "result = pd.DataFrame(columns = ['과목번호-분반', '과목명', '교수', '학점', '수업시간/강의실', '학년', '강의평', '담은 인원', '비고'])\n",
    "result = result.append(tmp)\n",
    "# 두 데이터 병합\n",
    "result = result.append(fault_result)\n",
    "result_2020_1 = result_2020_1.append(result)\n",
    "\n",
    "# 최종 데이터 프레임 생성\n",
    "result_2020_1.drop_duplicates(['과목번호-분반', '과목명'], inplace = True)\n",
    "result_2020_1\n",
    "result_2020_1.to_csv('2020_1.csv', encoding = 'UTF-8-SIG', index = False)"
   ]
  },
  {
   "cell_type": "markdown",
   "metadata": {},
   "source": [
    "### 2020년 2학기"
   ]
  },
  {
   "cell_type": "code",
   "execution_count": null,
   "metadata": {
    "ExecuteTime": {
     "end_time": "2021-04-01T13:07:03.765787Z",
     "start_time": "2021-04-01T13:07:00.840653Z"
    }
   },
   "outputs": [],
   "source": [
    "# 빈 데이터프레임 생성 (칼럼)\n",
    "result_2020_2 = pd.DataFrame(columns = ['과목번호-분반', '과목명', '교수', '학점', '수업시간/강의실', '학년', '강의평', '담은 인원', '비고'])\n",
    "input_len = len(list(pd.read_csv('./course_lst/' + 'course_lst_20_2.txt', sep = ',').과목명.unique()))\n",
    "print(input_len)\n",
    "\n",
    "# 결과 반환\n",
    "tmp, fault = make_course_by_semester(2020, 2, 0, 300)\n",
    "# 실패한 리스트 다시 시도\n",
    "fault_result = fault_course(2020, 2, fault)\n",
    "# 결과 병합\n",
    "result = pd.DataFrame(columns = ['과목번호-분반', '과목명', '교수', '학점', '수업시간/강의실', '학년', '강의평', '담은 인원', '비고'])\n",
    "result = result.append(tmp)\n",
    "# 두 데이터 병합\n",
    "result = result.append(fault_result)\n",
    "result_2020_2 = result_2020_2.append(result)\n",
    "\n",
    "# 결과 반환\n",
    "tmp, fault = make_course_by_semester(2020, 2, 300, 600)\n",
    "# 실패한 리스트 다시 시도\n",
    "fault_result = fault_course(2020, 2, fault)\n",
    "# 결과 병합\n",
    "result = pd.DataFrame(columns = ['과목번호-분반', '과목명', '교수', '학점', '수업시간/강의실', '학년', '강의평', '담은 인원', '비고'])\n",
    "result = result.append(tmp)\n",
    "# 두 데이터 병합\n",
    "result = result.append(fault_result)\n",
    "result_2020_2 = result_2020_2.append(result)\n",
    "\n",
    "# 결과 반환\n",
    "tmp, fault = make_course_by_semester(2020, 2, 600, input_len)\n",
    "# 실패한 리스트 다시 시도\n",
    "fault_result = fault_course(2020, 2, fault)\n",
    "# 결과 병합\n",
    "result = pd.DataFrame(columns = ['과목번호-분반', '과목명', '교수', '학점', '수업시간/강의실', '학년', '강의평', '담은 인원', '비고'])\n",
    "result = result.append(tmp)\n",
    "# 두 데이터 병합\n",
    "result = result.append(fault_result)\n",
    "result_2020_2 = result_2020_2.append(result)\n",
    "\n",
    "# 최종 데이터 프레임 생성\n",
    "result_2020_2.drop_duplicates(['과목번호-분반', '과목명'], inplace = True)\n",
    "result_2020_2\n",
    "result_2020_2.to_csv('2020_1.csv', encoding = 'UTF-8-SIG', index = False)"
   ]
  },
  {
   "cell_type": "markdown",
   "metadata": {},
   "source": [
    "### 2021년 1학기"
   ]
  },
  {
   "cell_type": "code",
   "execution_count": null,
   "metadata": {
    "ExecuteTime": {
     "end_time": "2021-04-01T13:07:09.611197Z",
     "start_time": "2021-04-01T13:07:06.634120Z"
    }
   },
   "outputs": [],
   "source": [
    "# 빈 데이터프레임 생성 (칼럼)\n",
    "result_2021_1 = pd.DataFrame(columns = ['과목번호-분반', '과목명', '교수', '학점', '수업시간/강의실', '학년', '강의평', '담은 인원', '비고'])\n",
    "input_len = len(list(pd.read_csv('./course_lst/' + 'course_lst_21_1.txt', sep = ',').과목명.unique()))\n",
    "print(input_len)\n",
    "\n",
    "# 결과 반환\n",
    "tmp, fault = make_course_by_semester(2021, 1, 0, 300)\n",
    "# 실패한 리스트 다시 시도\n",
    "fault_result = fault_course(2021, 1, fault)\n",
    "# 결과 병합\n",
    "result = pd.DataFrame(columns = ['과목번호-분반', '과목명', '교수', '학점', '수업시간/강의실', '학년', '강의평', '담은 인원', '비고'])\n",
    "result = result.append(tmp)\n",
    "# 두 데이터 병합\n",
    "result = result.append(fault_result)\n",
    "result_2021_1 = result_2021_1.append(result)\n",
    "\n",
    "# 결과 반환\n",
    "tmp, fault = make_course_by_semester(2021, 1, 300, 600)\n",
    "# 실패한 리스트 다시 시도\n",
    "fault_result = fault_course(2021, 1, fault)\n",
    "# 결과 병합\n",
    "result = pd.DataFrame(columns = ['과목번호-분반', '과목명', '교수', '학점', '수업시간/강의실', '학년', '강의평', '담은 인원', '비고'])\n",
    "result = result.append(tmp)\n",
    "# 두 데이터 병합\n",
    "result = result.append(fault_result)\n",
    "result_2021_1 = result_2021_1.append(result)\n",
    "\n",
    "# 결과 반환\n",
    "tmp, fault = make_course_by_semester(2021, 1, 600, input_len)\n",
    "# 실패한 리스트 다시 시도\n",
    "fault_result = fault_course(2021, 1, fault)\n",
    "# 결과 병합\n",
    "result = pd.DataFrame(columns = ['과목번호-분반', '과목명', '교수', '학점', '수업시간/강의실', '학년', '강의평', '담은 인원', '비고'])\n",
    "result = result.append(tmp)\n",
    "# 두 데이터 병합\n",
    "result = result.append(fault_result)\n",
    "result_2021_1 = result_2021_1.append(result)\n",
    "\n",
    "# 최종 데이터 프레임 생성\n",
    "result_2021_1.drop_duplicates(['과목번호-분반', '과목명'], inplace = True)\n",
    "result_2021_1\n",
    "result_2021_1.to_csv('2021_1.csv', encoding = 'UTF-8-SIG', index = False)"
   ]
  }
 ],
 "metadata": {
  "kernelspec": {
   "display_name": "Python 3",
   "language": "python",
   "name": "python3"
  },
  "language_info": {
   "codemirror_mode": {
    "name": "ipython",
    "version": 3
   },
   "file_extension": ".py",
   "mimetype": "text/x-python",
   "name": "python",
   "nbconvert_exporter": "python",
   "pygments_lexer": "ipython3",
   "version": "3.7.4"
  },
  "toc": {
   "base_numbering": 1,
   "nav_menu": {},
   "number_sections": true,
   "sideBar": true,
   "skip_h1_title": false,
   "title_cell": "Table of Contents",
   "title_sidebar": "Contents",
   "toc_cell": false,
   "toc_position": {},
   "toc_section_display": true,
   "toc_window_display": false
  },
  "varInspector": {
   "cols": {
    "lenName": 16,
    "lenType": 16,
    "lenVar": 40
   },
   "kernels_config": {
    "python": {
     "delete_cmd_postfix": "",
     "delete_cmd_prefix": "del ",
     "library": "var_list.py",
     "varRefreshCmd": "print(var_dic_list())"
    },
    "r": {
     "delete_cmd_postfix": ") ",
     "delete_cmd_prefix": "rm(",
     "library": "var_list.r",
     "varRefreshCmd": "cat(var_dic_list()) "
    }
   },
   "types_to_exclude": [
    "module",
    "function",
    "builtin_function_or_method",
    "instance",
    "_Feature"
   ],
   "window_display": false
  }
 },
 "nbformat": 4,
 "nbformat_minor": 4
}
