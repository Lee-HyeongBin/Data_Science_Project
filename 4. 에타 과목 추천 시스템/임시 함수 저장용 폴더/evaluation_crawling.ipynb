{
 "cells": [
  {
   "cell_type": "markdown",
   "metadata": {},
   "source": [
    "# 라이브러리 호출"
   ]
  },
  {
   "cell_type": "code",
   "execution_count": 37,
   "metadata": {
    "ExecuteTime": {
     "end_time": "2021-03-29T18:51:20.466498Z",
     "start_time": "2021-03-29T18:51:20.458518Z"
    }
   },
   "outputs": [],
   "source": [
    "from selenium import webdriver\n",
    "from bs4 import BeautifulSoup\n",
    "import pandas as pd\n",
    "import numpy as np\n",
    "import time"
   ]
  },
  {
   "cell_type": "markdown",
   "metadata": {},
   "source": [
    "# 데이터 수집"
   ]
  },
  {
   "cell_type": "markdown",
   "metadata": {},
   "source": [
    "## 크롬 드라이버 생성"
   ]
  },
  {
   "cell_type": "code",
   "execution_count": 38,
   "metadata": {
    "ExecuteTime": {
     "end_time": "2021-03-29T18:51:31.072037Z",
     "start_time": "2021-03-29T18:51:21.242422Z"
    }
   },
   "outputs": [],
   "source": [
    "url = 'https://everytime.kr/lecture'\n",
    "driver = webdriver.Chrome('./driver/chromedriver.exe')\n",
    "driver.maximize_window()\n",
    "driver.get(url)\n",
    "time.sleep(3)"
   ]
  },
  {
   "cell_type": "markdown",
   "metadata": {},
   "source": [
    "## 에브리타임 로그인"
   ]
  },
  {
   "cell_type": "code",
   "execution_count": 39,
   "metadata": {
    "ExecuteTime": {
     "end_time": "2021-03-29T18:51:39.322905Z",
     "start_time": "2021-03-29T18:51:31.420629Z"
    }
   },
   "outputs": [
    {
     "name": "stdout",
     "output_type": "stream",
     "text": [
      "에브리타임 아이디를 입력해주세요.: gi33808\n",
      "에브리타임 비밀번호를 입력해주세요.: afm1908\n"
     ]
    }
   ],
   "source": [
    "user_id = input('에브리타임 아이디를 입력해주세요.: ')\n",
    "et_login = driver.find_element_by_name(\"userid\")\n",
    "et_login.clear()\n",
    "et_login.send_keys(user_id)\n",
    "\n",
    "user_pw = input('에브리타임 비밀번호를 입력해주세요.: ')\n",
    "et_login = driver.find_element_by_name(\"password\")\n",
    "et_login.clear()\n",
    "et_login.send_keys(user_pw)\n",
    "\n",
    "driver.find_element_by_xpath(\"\"\"//*[@id=\"container\"]/form/p[3]/input\"\"\").click()\n",
    "time.sleep(3)"
   ]
  },
  {
   "cell_type": "code",
   "execution_count": 40,
   "metadata": {
    "ExecuteTime": {
     "end_time": "2021-03-29T18:51:42.713905Z",
     "start_time": "2021-03-29T18:51:39.565307Z"
    }
   },
   "outputs": [],
   "source": [
    "while True: # 광고 제거\n",
    "    try:\n",
    "        driver.find_element_by_xpath(\"\"\"//*[@id=\"sheet\"]/ul/li[3]/a\"\"\").click()\n",
    "        time.sleep(3)\n",
    "        break\n",
    "    except:\n",
    "        continue"
   ]
  },
  {
   "cell_type": "markdown",
   "metadata": {},
   "source": [
    "## 배고파"
   ]
  },
  {
   "cell_type": "code",
   "execution_count": 41,
   "metadata": {
    "ExecuteTime": {
     "end_time": "2021-03-29T18:51:43.018529Z",
     "start_time": "2021-03-29T18:51:42.938829Z"
    }
   },
   "outputs": [],
   "source": [
    "text_file = list(pd.read_csv('./course_lst/' + 'course_lst_' + 'total.txt', sep = ',').과목명.unique())"
   ]
  },
  {
   "cell_type": "code",
   "execution_count": 42,
   "metadata": {
    "ExecuteTime": {
     "end_time": "2021-03-29T18:51:45.172518Z",
     "start_time": "2021-03-29T18:51:45.160548Z"
    }
   },
   "outputs": [],
   "source": [
    "def make_evaluation():\n",
    "    result_df = pd.DataFrame(columns = ['과목명', '과제', '조모임', '학점비율', '출결', '시험횟수', '수강학기', '수강평'])\n",
    "    counting = 1\n",
    "    mid_result = []\n",
    "    \n",
    "    for name in text_file:\n",
    "        driver.get(url)\n",
    "        time.sleep(3)\n",
    "        driver.find_element_by_xpath('//*[@id=\"container\"]/form/input[1]').click()\n",
    "        course_search = driver.find_element_by_xpath('//*[@id=\"container\"]/form/input[1]')\n",
    "        course_search.send_keys('헬스커뮤니케이션과뉴미디어')\n",
    "        time.sleep(0.5)\n",
    "        driver.find_element_by_xpath('//*[@id=\"container\"]/form/input[2]').click()\n",
    "        time.sleep(3)\n",
    "        count = 1\n",
    "        \n",
    "        for i in range(1, 2):\n",
    "            \n",
    "            try:\n",
    "                driver.find_element_by_xpath('//*[@id=\"container\"]/div/a[' + str(i) + ']').click()\n",
    "            except:\n",
    "                break\n",
    "            time.sleep(3)\n",
    "            page = driver.page_source\n",
    "            soup = BeautifulSoup(page, \"html.parser\")\n",
    "            \n",
    "#             # 과목명 추가\n",
    "#             mid_result.append(soup.find('div', class_ = 'side head').find('h2').text)\n",
    "#             # 과제 추가\n",
    "#             mid_result.append(tmp.find('div', class_ = 'rating').find_all('p')[0].text)\n",
    "#             # 조모임 추가\n",
    "#             mid_result.append(tmp.find('div', class_ = 'rating').find_all('p')[1].text)\n",
    "#             # 학점 비율 추가\n",
    "#             mid_result.append(tmp.find('div', class_ = 'rating').find_all('p')[2].text)\n",
    "#             # 출결 추가\n",
    "#             mid_result.append(tmp.find('div', class_ = 'rating').find_all('p')[3].text)\n",
    "#             # 시험횟수 추가\n",
    "#             mid_result.append(tmp.find('div', class_ = 'rating').find_all('p')[4].text)\n",
    "#             # 수강학기 추가\n",
    "            \n",
    "#             # 수강평 추가\n",
    "            \n",
    "            \n",
    "            break\n",
    "        break\n",
    "    return soup"
   ]
  },
  {
   "cell_type": "code",
   "execution_count": 43,
   "metadata": {
    "ExecuteTime": {
     "end_time": "2021-03-29T18:51:58.356374Z",
     "start_time": "2021-03-29T18:51:47.684689Z"
    },
    "scrolled": false
   },
   "outputs": [],
   "source": [
    "tmp = make_evaluation()"
   ]
  },
  {
   "cell_type": "code",
   "execution_count": 49,
   "metadata": {
    "ExecuteTime": {
     "end_time": "2021-03-29T18:53:20.877105Z",
     "start_time": "2021-03-29T18:53:20.869125Z"
    }
   },
   "outputs": [
    {
     "data": {
      "text/plain": [
       "bs4.element.Tag"
      ]
     },
     "execution_count": 49,
     "metadata": {},
     "output_type": "execute_result"
    }
   ],
   "source": [
    "type(tmp.find('div', class_ = 'side article').find('div', class_ = 'empty'))"
   ]
  },
  {
   "cell_type": "code",
   "execution_count": 27,
   "metadata": {
    "ExecuteTime": {
     "end_time": "2021-03-29T17:37:35.437450Z",
     "start_time": "2021-03-29T17:37:35.426478Z"
    }
   },
   "outputs": [
    {
     "data": {
      "text/plain": [
       "'많이 어렵지 않게 들을 수 있습니다. 여러 번의 과제가 있지만 어렵지 않고성실성을 요구하는 정도로 느껴졌습니다. 시험은 너무 쉽지 않게 나오고만점을 받는 학생이 한명 혹은 없었던 걸로 기억합니다. 경영통계 이상의 난이도로 더 많은 것을 배울 수 있습니다.'"
      ]
     },
     "execution_count": 27,
     "metadata": {},
     "output_type": "execute_result"
    }
   ],
   "source": [
    "tmp.find('div', class_ = 'articles').find_all('p', class_='text')[0].text"
   ]
  },
  {
   "cell_type": "code",
   "execution_count": 35,
   "metadata": {
    "ExecuteTime": {
     "end_time": "2021-03-29T17:42:48.172439Z",
     "start_time": "2021-03-29T17:42:48.159474Z"
    }
   },
   "outputs": [
    {
     "data": {
      "text/plain": [
       "'많음'"
      ]
     },
     "execution_count": 35,
     "metadata": {},
     "output_type": "execute_result"
    }
   ],
   "source": [
    "tmp.find('div', class_ = 'rating').find_all('p')[0].find('span').text"
   ]
  },
  {
   "cell_type": "code",
   "execution_count": 11,
   "metadata": {
    "ExecuteTime": {
     "end_time": "2021-03-29T17:06:46.264461Z",
     "start_time": "2021-03-29T17:06:46.256484Z"
    }
   },
   "outputs": [
    {
     "data": {
      "text/plain": [
       "44"
      ]
     },
     "execution_count": 11,
     "metadata": {},
     "output_type": "execute_result"
    }
   ],
   "source": [
    "len(str(tmp.find('div', class_ = 'rating').find('span', class_ = 'on')))"
   ]
  },
  {
   "cell_type": "code",
   "execution_count": 12,
   "metadata": {
    "ExecuteTime": {
     "end_time": "2021-03-29T17:06:46.692992Z",
     "start_time": "2021-03-29T17:06:46.681110Z"
    }
   },
   "outputs": [
    {
     "data": {
      "text/plain": [
       "'80'"
      ]
     },
     "execution_count": 12,
     "metadata": {},
     "output_type": "execute_result"
    }
   ],
   "source": [
    "str(tmp.find('div', class_ = 'rating').find('span', class_ = 'on'))[31:33]"
   ]
  },
  {
   "cell_type": "code",
   "execution_count": null,
   "metadata": {},
   "outputs": [],
   "source": [
    "tmp.find()"
   ]
  },
  {
   "cell_type": "markdown",
   "metadata": {},
   "source": [
    "---"
   ]
  },
  {
   "cell_type": "code",
   "execution_count": null,
   "metadata": {},
   "outputs": [],
   "source": [
    "# 아래는 연습하다가 남긴 코드"
   ]
  },
  {
   "cell_type": "code",
   "execution_count": null,
   "metadata": {},
   "outputs": [],
   "source": [
    "          \n",
    "            \n",
    "            //*[@id=\"container\"]/div[4]/div[1]\n",
    "            count += 1\n",
    "                \n",
    "                \n",
    "                \n",
    "        driver.find_element_by_xpath('//*[@id=\"container\"]/div/a[2]').click()\n",
    "        time.sleep(3)\n",
    "        course_search = driver.find_element_by_xpath('//*[@id=\"subjectKeywordFilter\"]/div/input')\n",
    "        course_search.send_keys(name)\n",
    "        time.sleep(1.5)\n",
    "        driver.find_element_by_xpath('//*[@id=\"subjectKeywordFilter\"]/input').click()\n",
    "        time.sleep(2)\n",
    "        \n",
    "        # 2. bs4로 parsing하기\n",
    "        page = driver.page_source\n",
    "        soup = BeautifulSoup(page, \"html.parser\")\n",
    "        contents = []\n",
    "        tmp = soup.find('div','list').find('tbody').find_all('td')\n",
    "        \n",
    "        for i in tmp:\n",
    "            tmp = i.get_text()\n",
    "            contents.append(tmp)\n",
    "        contents = np.array(contents)\n",
    "        column = []\n",
    "        tmp = soup.find('div','list').find('thead').find_all('th')\n",
    "        \n",
    "        for k in tmp:\n",
    "            tmp = str(k).lstrip('<th>').split('<div>')\n",
    "            column.append(tmp[0])\n",
    "        \n",
    "        # 3. 데이터프레임 반환\n",
    "        timetable = pd.DataFrame(contents.reshape(len(contents)//9,9), columns=column)\n",
    "        \n",
    "        # 4. 데이터프레임 병합\n",
    "        result_df = result_df.append(timetable)\n",
    "        \n",
    "        # 5. 남은 개수 증가\n",
    "        counting += 1\n",
    "        \n",
    "    # 데이터프레임 중복 제거\n",
    "    result_df.drop_duplicates(['과목번호-분반', '과목명'], inplace = True)\n",
    "        \n",
    "    return result_df"
   ]
  }
 ],
 "metadata": {
  "kernelspec": {
   "display_name": "Python 3",
   "language": "python",
   "name": "python3"
  },
  "language_info": {
   "codemirror_mode": {
    "name": "ipython",
    "version": 3
   },
   "file_extension": ".py",
   "mimetype": "text/x-python",
   "name": "python",
   "nbconvert_exporter": "python",
   "pygments_lexer": "ipython3",
   "version": "3.7.4"
  },
  "toc": {
   "base_numbering": 1,
   "nav_menu": {},
   "number_sections": true,
   "sideBar": true,
   "skip_h1_title": false,
   "title_cell": "Table of Contents",
   "title_sidebar": "Contents",
   "toc_cell": false,
   "toc_position": {},
   "toc_section_display": true,
   "toc_window_display": false
  },
  "varInspector": {
   "cols": {
    "lenName": 16,
    "lenType": 16,
    "lenVar": 40
   },
   "kernels_config": {
    "python": {
     "delete_cmd_postfix": "",
     "delete_cmd_prefix": "del ",
     "library": "var_list.py",
     "varRefreshCmd": "print(var_dic_list())"
    },
    "r": {
     "delete_cmd_postfix": ") ",
     "delete_cmd_prefix": "rm(",
     "library": "var_list.r",
     "varRefreshCmd": "cat(var_dic_list()) "
    }
   },
   "types_to_exclude": [
    "module",
    "function",
    "builtin_function_or_method",
    "instance",
    "_Feature"
   ],
   "window_display": false
  }
 },
 "nbformat": 4,
 "nbformat_minor": 4
}
