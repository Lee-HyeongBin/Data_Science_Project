{
 "cells": [
  {
   "cell_type": "markdown",
   "metadata": {},
   "source": [
    "# 라이브러리 호출"
   ]
  },
  {
   "cell_type": "code",
   "execution_count": 1,
   "metadata": {
    "ExecuteTime": {
     "end_time": "2021-04-10T12:30:19.896131Z",
     "start_time": "2021-04-10T12:30:06.047154Z"
    }
   },
   "outputs": [],
   "source": [
    "import pandas as pd\n",
    "import numpy as np\n",
    "import os\n",
    "import re\n",
    "\n",
    "from konlpy.tag import *\n",
    "from tqdm import tqdm\n",
    "\n",
    "import warnings\n",
    "warnings.filterwarnings('ignore')\n",
    "\n",
    "tqdm.pandas()\n",
    "okt = Okt()\n",
    "kkma = Kkma()\n",
    "komo = Komoran()\n",
    "pd.set_option('display.max_row', 100)"
   ]
  },
  {
   "cell_type": "markdown",
   "metadata": {},
   "source": [
    "# 경로 설정"
   ]
  },
  {
   "cell_type": "markdown",
   "metadata": {},
   "source": [
    "## 절대 경로 설정"
   ]
  },
  {
   "cell_type": "code",
   "execution_count": 2,
   "metadata": {
    "ExecuteTime": {
     "end_time": "2021-04-10T12:30:19.919070Z",
     "start_time": "2021-04-10T12:30:19.901117Z"
    }
   },
   "outputs": [
    {
     "name": "stdout",
     "output_type": "stream",
     "text": [
      "C:\\Users\\USER\\Desktop\\Everytime\n"
     ]
    }
   ],
   "source": [
    "new_path = os.getcwd().split('run')[0].replace('\\\\', '/')[:-1]\n",
    "os.chdir(new_path)\n",
    "print(os.getcwd())"
   ]
  },
  {
   "cell_type": "markdown",
   "metadata": {},
   "source": [
    "## 경로 입력"
   ]
  },
  {
   "cell_type": "code",
   "execution_count": 3,
   "metadata": {
    "ExecuteTime": {
     "end_time": "2021-04-10T12:30:20.037751Z",
     "start_time": "2021-04-10T12:30:19.925052Z"
    }
   },
   "outputs": [],
   "source": [
    "eval_path = './data/et_evaluation/'\n",
    "sche_path = './data/et_schedule/'\n",
    "honey_path = './data/et_honey_dict/'"
   ]
  },
  {
   "cell_type": "markdown",
   "metadata": {},
   "source": [
    "# 데이터 불러오기"
   ]
  },
  {
   "cell_type": "code",
   "execution_count": 4,
   "metadata": {
    "ExecuteTime": {
     "end_time": "2021-04-10T12:30:21.242529Z",
     "start_time": "2021-04-10T12:30:20.042755Z"
    }
   },
   "outputs": [
    {
     "data": {
      "text/html": [
       "<div>\n",
       "<style scoped>\n",
       "    .dataframe tbody tr th:only-of-type {\n",
       "        vertical-align: middle;\n",
       "    }\n",
       "\n",
       "    .dataframe tbody tr th {\n",
       "        vertical-align: top;\n",
       "    }\n",
       "\n",
       "    .dataframe thead th {\n",
       "        text-align: right;\n",
       "    }\n",
       "</style>\n",
       "<table border=\"1\" class=\"dataframe\">\n",
       "  <thead>\n",
       "    <tr style=\"text-align: right;\">\n",
       "      <th></th>\n",
       "      <th>id</th>\n",
       "      <th>과목명</th>\n",
       "      <th>교수명</th>\n",
       "      <th>전체평점</th>\n",
       "      <th>과제</th>\n",
       "      <th>조모임</th>\n",
       "      <th>학점비율</th>\n",
       "      <th>출결</th>\n",
       "      <th>시험횟수</th>\n",
       "      <th>개별평점</th>\n",
       "      <th>수강학기</th>\n",
       "      <th>수강평</th>\n",
       "    </tr>\n",
       "  </thead>\n",
       "  <tbody>\n",
       "    <tr>\n",
       "      <th>0</th>\n",
       "      <td>0</td>\n",
       "      <td>17세기영문학</td>\n",
       "      <td>김태원</td>\n",
       "      <td>0.0</td>\n",
       "      <td>NaN</td>\n",
       "      <td>NaN</td>\n",
       "      <td>NaN</td>\n",
       "      <td>NaN</td>\n",
       "      <td>NaN</td>\n",
       "      <td>NaN</td>\n",
       "      <td>NaN</td>\n",
       "      <td>NaN</td>\n",
       "    </tr>\n",
       "    <tr>\n",
       "      <th>1</th>\n",
       "      <td>1</td>\n",
       "      <td>1960년대의저항문화</td>\n",
       "      <td>노재호</td>\n",
       "      <td>5.0</td>\n",
       "      <td>보통</td>\n",
       "      <td>없음</td>\n",
       "      <td>비율 채워줌</td>\n",
       "      <td>지정좌석</td>\n",
       "      <td>두 번</td>\n",
       "      <td>100.0</td>\n",
       "      <td>19년 2학기</td>\n",
       "      <td>정말 많은 걸 배워간 수업. 다른 분이 말씀하신 대로 처음엔 저항문화라는 게 한 학...</td>\n",
       "    </tr>\n",
       "    <tr>\n",
       "      <th>2</th>\n",
       "      <td>2</td>\n",
       "      <td>1960년대의저항문화</td>\n",
       "      <td>노재호</td>\n",
       "      <td>5.0</td>\n",
       "      <td>보통</td>\n",
       "      <td>없음</td>\n",
       "      <td>비율 채워줌</td>\n",
       "      <td>지정좌석</td>\n",
       "      <td>두 번</td>\n",
       "      <td>100.0</td>\n",
       "      <td>18년 1학기</td>\n",
       "      <td>전체학생을 조로 나누고 매 수업 시작마다 의논주제를  제시하고, 주제에 대한 조별 ...</td>\n",
       "    </tr>\n",
       "    <tr>\n",
       "      <th>3</th>\n",
       "      <td>3</td>\n",
       "      <td>1960년대의저항문화</td>\n",
       "      <td>노재호</td>\n",
       "      <td>5.0</td>\n",
       "      <td>보통</td>\n",
       "      <td>없음</td>\n",
       "      <td>비율 채워줌</td>\n",
       "      <td>지정좌석</td>\n",
       "      <td>두 번</td>\n",
       "      <td>100.0</td>\n",
       "      <td>18년 1학기</td>\n",
       "      <td>처음엔 저항문화를 왜 배우지..?라고 생각했는데 얻어가는 것도 많고 생각보다 재밌었...</td>\n",
       "    </tr>\n",
       "    <tr>\n",
       "      <th>4</th>\n",
       "      <td>4</td>\n",
       "      <td>1960년대의저항문화</td>\n",
       "      <td>노재호</td>\n",
       "      <td>5.0</td>\n",
       "      <td>보통</td>\n",
       "      <td>없음</td>\n",
       "      <td>비율 채워줌</td>\n",
       "      <td>지정좌석</td>\n",
       "      <td>두 번</td>\n",
       "      <td>100.0</td>\n",
       "      <td>18년 1학기</td>\n",
       "      <td>수업 : 15-20분 조별토론 + 강의시험 : 각 문단마다 텍스트나 음악 저자/가수...</td>\n",
       "    </tr>\n",
       "  </tbody>\n",
       "</table>\n",
       "</div>"
      ],
      "text/plain": [
       "   id          과목명  교수명  전체평점   과제  조모임    학점비율    출결 시험횟수   개별평점     수강학기  \\\n",
       "0   0      17세기영문학  김태원   0.0  NaN  NaN     NaN   NaN  NaN    NaN      NaN   \n",
       "1   1  1960년대의저항문화  노재호   5.0   보통   없음  비율 채워줌  지정좌석  두 번  100.0  19년 2학기   \n",
       "2   2  1960년대의저항문화  노재호   5.0   보통   없음  비율 채워줌  지정좌석  두 번  100.0  18년 1학기   \n",
       "3   3  1960년대의저항문화  노재호   5.0   보통   없음  비율 채워줌  지정좌석  두 번  100.0  18년 1학기   \n",
       "4   4  1960년대의저항문화  노재호   5.0   보통   없음  비율 채워줌  지정좌석  두 번  100.0  18년 1학기   \n",
       "\n",
       "                                                 수강평  \n",
       "0                                                NaN  \n",
       "1  정말 많은 걸 배워간 수업. 다른 분이 말씀하신 대로 처음엔 저항문화라는 게 한 학...  \n",
       "2  전체학생을 조로 나누고 매 수업 시작마다 의논주제를  제시하고, 주제에 대한 조별 ...  \n",
       "3  처음엔 저항문화를 왜 배우지..?라고 생각했는데 얻어가는 것도 많고 생각보다 재밌었...  \n",
       "4  수업 : 15-20분 조별토론 + 강의시험 : 각 문단마다 텍스트나 음악 저자/가수...  "
      ]
     },
     "execution_count": 4,
     "metadata": {},
     "output_type": "execute_result"
    }
   ],
   "source": [
    "evaluation = pd.read_csv(eval_path + 'evaluation.csv', encoding = 'UTF-8-SIG')\n",
    "evaluation.reset_index(inplace = True)\n",
    "evaluation.columns = ['id'] + list(evaluation.columns)[1:]\n",
    "evaluation.head()"
   ]
  },
  {
   "cell_type": "markdown",
   "metadata": {},
   "source": [
    "# 데이터 기본 전처리"
   ]
  },
  {
   "cell_type": "code",
   "execution_count": 5,
   "metadata": {
    "ExecuteTime": {
     "end_time": "2021-04-10T12:30:21.376172Z",
     "start_time": "2021-04-10T12:30:21.249513Z"
    }
   },
   "outputs": [],
   "source": [
    "evaluation.dropna(inplace = True)"
   ]
  },
  {
   "cell_type": "markdown",
   "metadata": {},
   "source": [
    "## 학점 비율"
   ]
  },
  {
   "cell_type": "code",
   "execution_count": 6,
   "metadata": {
    "ExecuteTime": {
     "end_time": "2021-04-10T12:30:21.389137Z",
     "start_time": "2021-04-10T12:30:21.380164Z"
    }
   },
   "outputs": [],
   "source": [
    "def change_grade(x):\n",
    "    if x == '학점느님':\n",
    "        x = int(6)\n",
    "    elif x == '비율 채워줌':\n",
    "        x = int(2)\n",
    "    elif x == '매우 깐깐함':\n",
    "        x = int(-2)\n",
    "    else:\n",
    "        x = int(-6)\n",
    "    return x"
   ]
  },
  {
   "cell_type": "code",
   "execution_count": 7,
   "metadata": {
    "ExecuteTime": {
     "end_time": "2021-04-10T12:30:21.482887Z",
     "start_time": "2021-04-10T12:30:21.398115Z"
    }
   },
   "outputs": [],
   "source": [
    "evaluation['학점비율'] = evaluation['학점비율'].apply(lambda x : change_grade(x))"
   ]
  },
  {
   "cell_type": "code",
   "execution_count": 8,
   "metadata": {
    "ExecuteTime": {
     "end_time": "2021-04-10T12:30:21.526769Z",
     "start_time": "2021-04-10T12:30:21.488872Z"
    }
   },
   "outputs": [],
   "source": [
    "grade_score = evaluation.groupby(['과목명', '교수명'])['학점비율'].mean().to_frame().reset_index().sort_values(by = '과목명')"
   ]
  },
  {
   "cell_type": "markdown",
   "metadata": {},
   "source": [
    "## 전체 평점"
   ]
  },
  {
   "cell_type": "code",
   "execution_count": 9,
   "metadata": {
    "ExecuteTime": {
     "end_time": "2021-04-10T12:30:21.556689Z",
     "start_time": "2021-04-10T12:30:21.529763Z"
    }
   },
   "outputs": [],
   "source": [
    "total_score = evaluation.groupby(['과목명', '교수명'])['전체평점'].mean().to_frame().reset_index()\n",
    "total_score = total_score[total_score['전체평점'] != 0.0].reset_index(drop = True)"
   ]
  },
  {
   "cell_type": "markdown",
   "metadata": {},
   "source": [
    "## 강의평 개수"
   ]
  },
  {
   "cell_type": "code",
   "execution_count": 10,
   "metadata": {
    "ExecuteTime": {
     "end_time": "2021-04-10T12:30:22.216929Z",
     "start_time": "2021-04-10T12:30:21.559682Z"
    }
   },
   "outputs": [],
   "source": [
    "evaluation_num = evaluation.groupby(['과목명', '교수명'])['수강평'].unique().to_frame().reset_index()\n",
    "evaluation_num['강의평개수'] = evaluation_num['수강평'].apply(lambda x : len(x))"
   ]
  },
  {
   "cell_type": "markdown",
   "metadata": {},
   "source": [
    "## 강의 평가"
   ]
  },
  {
   "cell_type": "code",
   "execution_count": 11,
   "metadata": {
    "ExecuteTime": {
     "end_time": "2021-04-10T12:30:22.227896Z",
     "start_time": "2021-04-10T12:30:22.220915Z"
    }
   },
   "outputs": [],
   "source": [
    "def clean_string(text):\n",
    "    recom = re.compile('[^ \\.\\,\\?\\!a-zA-Z0-9\\u3131-\\u3163\\uac00-\\ud7a3]+')\n",
    "    text = recom.sub('', text)\n",
    "    return text"
   ]
  },
  {
   "cell_type": "code",
   "execution_count": 12,
   "metadata": {
    "ExecuteTime": {
     "end_time": "2021-04-10T12:30:22.656752Z",
     "start_time": "2021-04-10T12:30:22.231885Z"
    }
   },
   "outputs": [
    {
     "name": "stderr",
     "output_type": "stream",
     "text": [
      "100%|█████████████████████████████████████████████████████████████████████████| 20471/20471 [00:00<00:00, 70294.24it/s]\n"
     ]
    }
   ],
   "source": [
    "evaluation['수강평'] = evaluation['수강평'].progress_apply(lambda x : clean_string(x))"
   ]
  },
  {
   "cell_type": "code",
   "execution_count": 13,
   "metadata": {
    "ExecuteTime": {
     "end_time": "2021-04-10T12:41:19.392314Z",
     "start_time": "2021-04-10T12:30:22.660739Z"
    }
   },
   "outputs": [
    {
     "name": "stderr",
     "output_type": "stream",
     "text": [
      "100%|████████████████████████████████████████████████████████████████████████████| 20471/20471 [10:56<00:00, 31.17it/s]\n"
     ]
    }
   ],
   "source": [
    "evaluation['토큰'] = evaluation['수강평'].progress_apply(lambda x : okt.morphs(x, stem = True))"
   ]
  },
  {
   "cell_type": "code",
   "execution_count": 14,
   "metadata": {
    "ExecuteTime": {
     "end_time": "2021-04-10T12:41:19.598726Z",
     "start_time": "2021-04-10T12:41:19.396265Z"
    }
   },
   "outputs": [],
   "source": [
    "evaluation['토큰'] = evaluation['토큰'].str.join(sep = ' ')"
   ]
  },
  {
   "cell_type": "code",
   "execution_count": 15,
   "metadata": {
    "ExecuteTime": {
     "end_time": "2021-04-10T12:41:20.540206Z",
     "start_time": "2021-04-10T12:41:19.601714Z"
    }
   },
   "outputs": [],
   "source": [
    "evaluation_frame1 = evaluation.groupby(['과목명', '교수명'])['수강평'].unique().to_frame().reset_index()\n",
    "evaluation_frame1['수강평'] = evaluation_frame1['수강평'].str.join(sep = ' ')\n",
    "\n",
    "evaluation_frame2 = evaluation.groupby(['과목명', '교수명'])['토큰'].unique().to_frame().reset_index()\n",
    "evaluation_frame2['토큰'] = evaluation_frame2['토큰'].str.join(sep = ' ')"
   ]
  },
  {
   "cell_type": "markdown",
   "metadata": {},
   "source": [
    "## 과제"
   ]
  },
  {
   "cell_type": "code",
   "execution_count": 16,
   "metadata": {
    "ExecuteTime": {
     "end_time": "2021-04-10T12:41:20.552173Z",
     "start_time": "2021-04-10T12:41:20.544196Z"
    }
   },
   "outputs": [],
   "source": [
    "def change_homework(x):\n",
    "    if x == '많음':\n",
    "        x = int(-3)\n",
    "    elif x == '보통':\n",
    "        x = int(0)\n",
    "    else:\n",
    "        x = int(3)\n",
    "    return x"
   ]
  },
  {
   "cell_type": "code",
   "execution_count": 17,
   "metadata": {
    "ExecuteTime": {
     "end_time": "2021-04-10T12:41:20.591069Z",
     "start_time": "2021-04-10T12:41:20.558175Z"
    }
   },
   "outputs": [],
   "source": [
    "evaluation['과제'] = evaluation['과제'].apply(lambda x : change_homework(x))"
   ]
  },
  {
   "cell_type": "code",
   "execution_count": 18,
   "metadata": {
    "ExecuteTime": {
     "end_time": "2021-04-10T12:41:20.653906Z",
     "start_time": "2021-04-10T12:41:20.595058Z"
    }
   },
   "outputs": [],
   "source": [
    "homework_score = evaluation.groupby(['과목명', '교수명'])['과제'].mean().to_frame().reset_index()"
   ]
  },
  {
   "cell_type": "markdown",
   "metadata": {},
   "source": [
    "## 조모임"
   ]
  },
  {
   "cell_type": "code",
   "execution_count": 19,
   "metadata": {
    "ExecuteTime": {
     "end_time": "2021-04-10T12:41:20.663874Z",
     "start_time": "2021-04-10T12:41:20.656894Z"
    }
   },
   "outputs": [],
   "source": [
    "def change_teamwork(x):\n",
    "    if x == '없음':\n",
    "        x = int(3)\n",
    "    else:\n",
    "        x = int(-6)\n",
    "    return x"
   ]
  },
  {
   "cell_type": "code",
   "execution_count": 20,
   "metadata": {
    "ExecuteTime": {
     "end_time": "2021-04-10T12:41:20.733686Z",
     "start_time": "2021-04-10T12:41:20.668862Z"
    }
   },
   "outputs": [],
   "source": [
    "evaluation['조모임'] = evaluation['조모임'].apply(lambda x : change_teamwork(x))"
   ]
  },
  {
   "cell_type": "code",
   "execution_count": 21,
   "metadata": {
    "ExecuteTime": {
     "end_time": "2021-04-10T12:41:20.771586Z",
     "start_time": "2021-04-10T12:41:20.736679Z"
    }
   },
   "outputs": [],
   "source": [
    "teamwork_score = evaluation.groupby(['과목명', '교수명'])['조모임'].mean().to_frame().reset_index()"
   ]
  },
  {
   "cell_type": "markdown",
   "metadata": {},
   "source": [
    "## 시험횟수"
   ]
  },
  {
   "cell_type": "code",
   "execution_count": 22,
   "metadata": {
    "ExecuteTime": {
     "end_time": "2021-04-10T12:41:20.787543Z",
     "start_time": "2021-04-10T12:41:20.779567Z"
    }
   },
   "outputs": [],
   "source": [
    "def change_count(x):\n",
    "    if x == '없음':\n",
    "        x = 0\n",
    "    elif x == '한 번':\n",
    "        x = 1\n",
    "    elif x == '두 번':\n",
    "        x = 2\n",
    "    elif x == '세 번':\n",
    "        x = 3\n",
    "    else:\n",
    "        x = 4\n",
    "    return x"
   ]
  },
  {
   "cell_type": "code",
   "execution_count": 23,
   "metadata": {
    "ExecuteTime": {
     "end_time": "2021-04-10T12:41:20.820455Z",
     "start_time": "2021-04-10T12:41:20.795522Z"
    }
   },
   "outputs": [],
   "source": [
    "evaluation['시험횟수'] = evaluation['시험횟수'].apply(lambda x : change_count(x))"
   ]
  },
  {
   "cell_type": "code",
   "execution_count": 24,
   "metadata": {
    "ExecuteTime": {
     "end_time": "2021-04-10T12:41:20.874311Z",
     "start_time": "2021-04-10T12:41:20.824445Z"
    }
   },
   "outputs": [],
   "source": [
    "exam_num = evaluation.groupby(['과목명', '교수명'])['시험횟수'].mean().to_frame().reset_index()"
   ]
  },
  {
   "cell_type": "markdown",
   "metadata": {},
   "source": [
    "## 데이터 병합"
   ]
  },
  {
   "cell_type": "code",
   "execution_count": 25,
   "metadata": {
    "ExecuteTime": {
     "end_time": "2021-04-10T12:41:20.928169Z",
     "start_time": "2021-04-10T12:41:20.878302Z"
    }
   },
   "outputs": [],
   "source": [
    "result = pd.concat([grade_score, total_score.iloc[:, 2], homework_score.iloc[:, 2], teamwork_score.iloc[:, 2],\n",
    "                                   exam_num.iloc[:, 2], evaluation_num.iloc[:, 3], evaluation_frame1.iloc[:, 2], evaluation_frame2.iloc[:, 2]], axis = 1)"
   ]
  },
  {
   "cell_type": "code",
   "execution_count": 26,
   "metadata": {
    "ExecuteTime": {
     "end_time": "2021-04-10T12:41:20.950109Z",
     "start_time": "2021-04-10T12:41:20.933154Z"
    }
   },
   "outputs": [],
   "source": [
    "result.dropna(inplace = True)\n",
    "result.reset_index(inplace = True, drop = True)"
   ]
  },
  {
   "cell_type": "code",
   "execution_count": 27,
   "metadata": {
    "ExecuteTime": {
     "end_time": "2021-04-10T12:41:21.417904Z",
     "start_time": "2021-04-10T12:41:20.954100Z"
    }
   },
   "outputs": [],
   "source": [
    "result.to_csv(honey_path + 'result.csv', index = False, encoding = 'UTF-8-SIG')"
   ]
  },
  {
   "cell_type": "markdown",
   "metadata": {},
   "source": [
    "# 데이터 심화 전처리"
   ]
  },
  {
   "cell_type": "code",
   "execution_count": 28,
   "metadata": {
    "ExecuteTime": {
     "end_time": "2021-04-10T12:41:21.976364Z",
     "start_time": "2021-04-10T12:41:21.421848Z"
    }
   },
   "outputs": [],
   "source": [
    "result = pd.read_csv(honey_path + 'result.csv', encoding = 'UTF-8-SIG')\n",
    "result.dropna(inplace = True)\n",
    "result.reset_index(inplace = True, drop = True)"
   ]
  },
  {
   "cell_type": "code",
   "execution_count": 29,
   "metadata": {
    "ExecuteTime": {
     "end_time": "2021-04-10T12:41:21.990327Z",
     "start_time": "2021-04-10T12:41:21.981352Z"
    }
   },
   "outputs": [],
   "source": [
    "result['꿀수강'] = 0\n",
    "result['배움수강'] = 0"
   ]
  },
  {
   "cell_type": "code",
   "execution_count": 30,
   "metadata": {
    "ExecuteTime": {
     "end_time": "2021-04-10T12:41:22.019250Z",
     "start_time": "2021-04-10T12:41:21.995314Z"
    }
   },
   "outputs": [],
   "source": [
    "positive_honey_lst = ['God', 'HOnEy', 'honey', 'sofie', '갓', '갓향숙', '강추예욤', '개꿀', '개꿀강임',\n",
    "                                        '개꿀스피치', '개띵강', '꿀강', '꿀맛', '꿀잼일', '대천사그래도', '비쁠나옴쁠몰',\n",
    "                                        '빛신', '쁠몰같아', '쁠몰이셔', '쁠받', '수월하다쁠몰', '에쁠에제', '좋다천사이십',\n",
    "                                        '핵꿀', '꿀', '닥추임', '더꿀', '명강꿀', '빛빛빛', '안빡셉니', '에쁠에쁠', '초초강추',\n",
    "                                        '킹', '함꿀강', '후해짐', '힐링', '영접', '에이쁠', '학점느님', '퍼주실', '퍼줍니', '핵핵']\n",
    "positive_study_lst = ['배울', '빡셈', '빡세다', '개빡', '공부량', '질높', '꼽는', '명강', '노고', '빡공', '사례분석', '9학점이라', '9학점같은', '9학점짜리', '9학점입니다'\n",
    "                                       '9학점만큼', '9학점 수업', '아우라', '어려움', '어렵다', '어료워', '유의사항', '착취', '참뜻', '컨설턴트', '컨설팅계', '컨설팅쪽', '컨설팅펌'\n",
    "                                       '특효약', '헬', '배우는', '너무 어려']"
   ]
  },
  {
   "cell_type": "markdown",
   "metadata": {},
   "source": [
    "## 꿀 강의평가"
   ]
  },
  {
   "cell_type": "markdown",
   "metadata": {},
   "source": [
    "###### 꿀 단어 추출"
   ]
  },
  {
   "cell_type": "code",
   "execution_count": 31,
   "metadata": {
    "ExecuteTime": {
     "end_time": "2021-04-10T12:41:22.120979Z",
     "start_time": "2021-04-10T12:41:22.023242Z"
    }
   },
   "outputs": [],
   "source": [
    "hn = result[(result['학점비율'] == 6) & (result['조모임'] == 3) & (result['전체평점']  >= 4) & (result['시험횟수'] != 4) & (result['시험횟수'] != 3) & (result['강의평개수'] > 2)]\n",
    "hl = result[~((result['학점비율'] == 6) & (result['조모임'] == 3) & (result['전체평점']  >= 4) & (result['시험횟수'] != 4) & (result['시험횟수'] != 3) & (result['강의평개수'] > 2))]"
   ]
  },
  {
   "cell_type": "code",
   "execution_count": 32,
   "metadata": {
    "ExecuteTime": {
     "end_time": "2021-04-10T12:41:22.156883Z",
     "start_time": "2021-04-10T12:41:22.127962Z"
    }
   },
   "outputs": [],
   "source": [
    "hn_final = ''\n",
    "hn_lst = list(hn['토큰'].values)\n",
    "\n",
    "hl_final = ''\n",
    "hl_lst = list(hl['토큰'].values)"
   ]
  },
  {
   "cell_type": "code",
   "execution_count": 33,
   "metadata": {
    "ExecuteTime": {
     "end_time": "2021-04-10T12:41:22.208743Z",
     "start_time": "2021-04-10T12:41:22.161870Z"
    }
   },
   "outputs": [],
   "source": [
    "for i in hn_lst:\n",
    "    hn_final += i"
   ]
  },
  {
   "cell_type": "code",
   "execution_count": 34,
   "metadata": {
    "ExecuteTime": {
     "end_time": "2021-04-10T12:41:25.836048Z",
     "start_time": "2021-04-10T12:41:22.213730Z"
    }
   },
   "outputs": [
    {
     "name": "stderr",
     "output_type": "stream",
     "text": [
      "100%|█████████████████████████████████████████████████████████████████████████████| 2390/2390 [00:03<00:00, 669.20it/s]\n"
     ]
    }
   ],
   "source": [
    "for i in tqdm(hl_lst):\n",
    "    hl_final += i"
   ]
  },
  {
   "cell_type": "code",
   "execution_count": 35,
   "metadata": {
    "ExecuteTime": {
     "end_time": "2021-04-10T12:41:26.428463Z",
     "start_time": "2021-04-10T12:41:25.841034Z"
    }
   },
   "outputs": [],
   "source": [
    "hn_final = hn_final.split(' ')\n",
    "hn_final = sorted(list(set(hn_final)))\n",
    "\n",
    "hl_final = hl_final.split(' ')\n",
    "hl_final = sorted(list(set(hl_final)))"
   ]
  },
  {
   "cell_type": "code",
   "execution_count": 36,
   "metadata": {
    "ExecuteTime": {
     "end_time": "2021-04-10T12:41:26.458385Z",
     "start_time": "2021-04-10T12:41:26.432454Z"
    }
   },
   "outputs": [],
   "source": [
    "honey_final = sorted(list(set(hn_final) - set(hl_final)))\n",
    "honey_final = [re.compile('^[?!.,0123456789]+').sub('', i) for i in honey_final]\n",
    "honey_final = [re.compile('^[?!.,0123456789]+').sub('', i) for i in honey_final]\n",
    "honey_final = sorted(list(set(honey_final)))"
   ]
  },
  {
   "cell_type": "code",
   "execution_count": 37,
   "metadata": {
    "ExecuteTime": {
     "end_time": "2021-04-10T12:41:30.070727Z",
     "start_time": "2021-04-10T12:41:26.464370Z"
    }
   },
   "outputs": [
    {
     "name": "stderr",
     "output_type": "stream",
     "text": [
      "100%|█████████████████████████████████████████████████████████████████████████████| 2640/2640 [00:03<00:00, 872.46it/s]\n"
     ]
    }
   ],
   "source": [
    "for i in tqdm(range(len(result))):\n",
    "    cnt = 0\n",
    "    for text in positive_honey_lst:\n",
    "        cnt += result['토큰'][i].count(text)\n",
    "        if text in ['개꿀', '힐링']:\n",
    "            cnt += 2\n",
    "    result['꿀수강'][i] = cnt"
   ]
  },
  {
   "cell_type": "markdown",
   "metadata": {},
   "source": [
    "## 배움 강의평가"
   ]
  },
  {
   "cell_type": "markdown",
   "metadata": {},
   "source": [
    "###### 배움 단어 추출"
   ]
  },
  {
   "cell_type": "code",
   "execution_count": 38,
   "metadata": {
    "ExecuteTime": {
     "end_time": "2021-04-10T12:41:30.098653Z",
     "start_time": "2021-04-10T12:41:30.076712Z"
    }
   },
   "outputs": [],
   "source": [
    "lot_outcome = result[(result['전체평점']  >= 4) & (result['강의평개수'] > 3) & (result['시험횟수'] >= 2) & (result['과제'] == -3)]\n",
    "not_outcome = result[~((result['전체평점']  >= 4) & (result['강의평개수'] > 3) & (result['시험횟수'] >= 2) & (result['과제'] != 3))]"
   ]
  },
  {
   "cell_type": "code",
   "execution_count": 39,
   "metadata": {
    "ExecuteTime": {
     "end_time": "2021-04-10T12:41:30.146522Z",
     "start_time": "2021-04-10T12:41:30.104635Z"
    }
   },
   "outputs": [],
   "source": [
    "lot_outcome_final = ''\n",
    "lot_outcome_lst = list(lot_outcome['토큰'].values)\n",
    "\n",
    "not_outcome_final = ''\n",
    "not_outcome_lst = list(not_outcome['토큰'].values)"
   ]
  },
  {
   "cell_type": "code",
   "execution_count": 40,
   "metadata": {
    "ExecuteTime": {
     "end_time": "2021-04-10T12:41:32.484274Z",
     "start_time": "2021-04-10T12:41:30.153505Z"
    }
   },
   "outputs": [],
   "source": [
    "for i in lot_outcome_lst:\n",
    "    lot_outcome_final += i\n",
    "    \n",
    "for i in not_outcome_lst:\n",
    "    not_outcome_final += i"
   ]
  },
  {
   "cell_type": "code",
   "execution_count": 41,
   "metadata": {
    "ExecuteTime": {
     "end_time": "2021-04-10T12:41:32.843313Z",
     "start_time": "2021-04-10T12:41:32.487268Z"
    }
   },
   "outputs": [],
   "source": [
    "lot_outcome_final = lot_outcome_final.split(' ')\n",
    "lot_outcome_final = sorted(list(set(lot_outcome_final)))\n",
    "\n",
    "not_outcome_final = not_outcome_final.split(' ')\n",
    "not_outcome_final = sorted(list(set(not_outcome_final)))"
   ]
  },
  {
   "cell_type": "code",
   "execution_count": 42,
   "metadata": {
    "ExecuteTime": {
     "end_time": "2021-04-10T12:41:32.868246Z",
     "start_time": "2021-04-10T12:41:32.847305Z"
    }
   },
   "outputs": [],
   "source": [
    "study_final = sorted(list(set(lot_outcome_final) - set(not_outcome_final)))\n",
    "study_final = [re.compile('^[?!.,0123456789]+').sub('', i) for i in study_final]\n",
    "study_final = [re.compile('^[?!.,0123456789]+').sub('', i) for i in study_final]\n",
    "study_final = sorted(list(set(study_final)))"
   ]
  },
  {
   "cell_type": "code",
   "execution_count": 43,
   "metadata": {
    "ExecuteTime": {
     "end_time": "2021-04-10T12:41:36.061713Z",
     "start_time": "2021-04-10T12:41:32.873233Z"
    }
   },
   "outputs": [
    {
     "name": "stderr",
     "output_type": "stream",
     "text": [
      "100%|█████████████████████████████████████████████████████████████████████████████| 2640/2640 [00:03<00:00, 832.93it/s]\n"
     ]
    }
   ],
   "source": [
    "for i in tqdm(range(len(result))):\n",
    "    cnt = 0\n",
    "    for text in positive_study_lst:\n",
    "        cnt += result['수강평'][i].count(text)\n",
    "        cnt += result['토큰'][i].count(text)\n",
    "        if text in ['명강',  '9학점이라', '9학점같은', '9학점짜리', '9학점입니다', '9학점만큼', '9학점 수업', '빡공']:\n",
    "            cnt += 1\n",
    "    result['배움수강'][i] = cnt"
   ]
  },
  {
   "cell_type": "markdown",
   "metadata": {},
   "source": [
    "# 최종 점수"
   ]
  },
  {
   "cell_type": "code",
   "execution_count": 44,
   "metadata": {
    "ExecuteTime": {
     "end_time": "2021-04-10T12:41:36.085646Z",
     "start_time": "2021-04-10T12:41:36.065698Z"
    }
   },
   "outputs": [],
   "source": [
    "result['honey_score'] = (1 + result['강의평개수']/100) * (result['전체평점'] + result['학점비율'] + result['과제'] + result['조모임'] + (result['꿀수강']/result['강의평개수'] ))\n",
    "result['study_score'] = (1 + result['강의평개수']/20) * (result['전체평점'] - result['과제'] - result['시험횟수'] + (result['배움수강']/result['강의평개수']))"
   ]
  },
  {
   "cell_type": "code",
   "execution_count": 45,
   "metadata": {
    "ExecuteTime": {
     "end_time": "2021-04-10T12:41:36.499604Z",
     "start_time": "2021-04-10T12:41:36.089638Z"
    }
   },
   "outputs": [],
   "source": [
    "result.reset_index(drop = True, inplace = True)\n",
    "result.to_csv(honey_path + 'honeycombo.csv', index = False, encoding = 'UTF-8-SIG')"
   ]
  }
 ],
 "metadata": {
  "kernelspec": {
   "display_name": "Python 3",
   "language": "python",
   "name": "python3"
  },
  "language_info": {
   "codemirror_mode": {
    "name": "ipython",
    "version": 3
   },
   "file_extension": ".py",
   "mimetype": "text/x-python",
   "name": "python",
   "nbconvert_exporter": "python",
   "pygments_lexer": "ipython3",
   "version": "3.7.4"
  },
  "toc": {
   "base_numbering": 1,
   "nav_menu": {},
   "number_sections": true,
   "sideBar": true,
   "skip_h1_title": false,
   "title_cell": "Table of Contents",
   "title_sidebar": "Contents",
   "toc_cell": false,
   "toc_position": {},
   "toc_section_display": true,
   "toc_window_display": false
  },
  "varInspector": {
   "cols": {
    "lenName": 16,
    "lenType": 16,
    "lenVar": 40
   },
   "kernels_config": {
    "python": {
     "delete_cmd_postfix": "",
     "delete_cmd_prefix": "del ",
     "library": "var_list.py",
     "varRefreshCmd": "print(var_dic_list())"
    },
    "r": {
     "delete_cmd_postfix": ") ",
     "delete_cmd_prefix": "rm(",
     "library": "var_list.r",
     "varRefreshCmd": "cat(var_dic_list()) "
    }
   },
   "types_to_exclude": [
    "module",
    "function",
    "builtin_function_or_method",
    "instance",
    "_Feature"
   ],
   "window_display": false
  }
 },
 "nbformat": 4,
 "nbformat_minor": 4
}
