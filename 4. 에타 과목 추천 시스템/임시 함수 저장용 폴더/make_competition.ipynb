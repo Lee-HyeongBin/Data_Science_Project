{
 "cells": [
  {
   "cell_type": "markdown",
   "metadata": {},
   "source": [
    "# 라이브러리 호출"
   ]
  },
  {
   "cell_type": "code",
   "execution_count": 1,
   "metadata": {
    "ExecuteTime": {
     "end_time": "2021-03-28T16:20:15.886292Z",
     "start_time": "2021-03-28T16:20:13.242512Z"
    }
   },
   "outputs": [],
   "source": [
    "# 라이브러리 호출\n",
    "\n",
    "from functools import reduce\n",
    "import pandas as pd\n",
    "import chardet\n",
    "import os"
   ]
  },
  {
   "cell_type": "code",
   "execution_count": 2,
   "metadata": {
    "ExecuteTime": {
     "end_time": "2021-03-28T16:20:15.933100Z",
     "start_time": "2021-03-28T16:20:15.918141Z"
    }
   },
   "outputs": [],
   "source": [
    "# 경로 설정(Before)\n",
    "\n",
    "B_PATH = './data/competition_ratio(before)/'\n",
    "A_PATH = './data/competition_ratio(after)/'\n",
    "data_lst_b = os.listdir(B_PATH)"
   ]
  },
  {
   "cell_type": "code",
   "execution_count": 3,
   "metadata": {
    "ExecuteTime": {
     "end_time": "2021-03-28T16:20:16.187427Z",
     "start_time": "2021-03-28T16:20:15.974991Z"
    }
   },
   "outputs": [],
   "source": [
    "# 인코딩 확인\n",
    "\n",
    "for name in data_lst_b:\n",
    "    with open(B_PATH + name, 'rb') as f:\n",
    "        result = chardet.detect(f.readline())\n",
    "        if result['encoding'] != 'UTF-8-SIG':\n",
    "            print('인코딩 확인이 필요합니다.')"
   ]
  },
  {
   "cell_type": "markdown",
   "metadata": {},
   "source": [
    "---"
   ]
  },
  {
   "cell_type": "markdown",
   "metadata": {},
   "source": [
    "# 데이터 전처리"
   ]
  },
  {
   "cell_type": "code",
   "execution_count": 4,
   "metadata": {
    "ExecuteTime": {
     "end_time": "2021-03-28T15:09:22.394982Z",
     "start_time": "2021-03-28T15:09:22.363069Z"
    }
   },
   "outputs": [],
   "source": [
    "def make_comp_data():\n",
    "    for name in data_lst_b:\n",
    "        name_tmp = name[:6]\n",
    "        \n",
    "        # 1. 데이터 불러오기\n",
    "        comp = pd.read_csv(B_PATH + name, encoding = 'UTF-8-SIG')\n",
    "        \n",
    "        # 2. 데이터 컬럼 이름 재정의\n",
    "        if name_tmp in ['2016_1', '2016_2', '2017_1']:\n",
    "            comp.rename(columns = {'입력코드' : '과목코드-분반', '1학년' : name_tmp + '_1학년',\n",
    "                                                           '2학년' : name_tmp + '_2학년', '3학년' : name_tmp + '_3학년',\n",
    "                                                           '4학년' : name_tmp + '_4학년'}, inplace = True)\n",
    "        elif name_tmp in ['2017_2', '2018_1']:\n",
    "            comp.rename(columns = {'입력코드' : '과목코드-분반', '1학년' : name_tmp + '_1학년',\n",
    "                                                           '2학년' : name_tmp + '_2학년', '3학년' : name_tmp + '_3학년',\n",
    "                                                           '4학년' : name_tmp + '_4학년'}, inplace = True)\n",
    "        elif name_tmp in ['2018_2', '2019_1']:\n",
    "            comp.rename(columns = {'입력코드' : '과목코드-분반', '1학년' : name_tmp + '_1학년',\n",
    "                                                           '2학년' : name_tmp + '_2학년', '3학년 ' : name_tmp + '_3학년',\n",
    "                                                           '4학년' : name_tmp + '_4학년'}, inplace = True)\n",
    "        elif name_tmp in ['2019_2']:\n",
    "            comp.rename(columns = {'과목분반' : '과목코드-분반', '1학년' : name_tmp + '_1학년',\n",
    "                                                           '2학년' : name_tmp + '_2학년', '3학년 ' : name_tmp + '_3학년',\n",
    "                                                           '4학년' : name_tmp + '_4학년'}, inplace = True)\n",
    "        else:\n",
    "            comp.rename(columns = {'과목코드+분반코드' : '과목코드-분반', '1학년' : name_tmp + '_1학년',\n",
    "                                                           '2학년' : name_tmp + '_2학년', '3학년' : name_tmp + '_3학년',\n",
    "                                                           '4학년' : name_tmp + '_4학년'}, inplace = True)\n",
    "        \n",
    "        # 3. 데이터 인덱스 순서 재정의\n",
    "        if name_tmp in ['2016_1', '2016_2', '2017_1']:\n",
    "            comp = comp.reindex(columns = ['과목코드-분반', '과목명',name_tmp + '_1학년',\n",
    "                                                                         name_tmp + '_2학년', name_tmp + '_3학년', name_tmp + '_4학년'])\n",
    "        elif name_tmp in ['2017_2', '2018_1', '2018_2', '2019_1', '2019_2']:\n",
    "            comp = comp.reindex(columns = ['과목코드-분반', '과목명', name_tmp + '_1학년',\n",
    "                                                                         name_tmp + '_2학년', name_tmp + '_3학년', name_tmp + '_4학년'])\n",
    "        else:\n",
    "            comp = comp.reindex(columns = ['과목코드-분반', '과목명', name_tmp + '_1학년',\n",
    "                                                                         name_tmp + '_2학년', name_tmp + '_3학년', name_tmp + '_4학년'])\n",
    "\n",
    "        \n",
    "        # 4. 데이터 인덱스 정의\n",
    "        comp.set_index(['과목코드-분반'], inplace = True)\n",
    "\n",
    "        # 5. 데이터 저장하기\n",
    "        comp.to_csv(A_PATH + name, encoding = 'UTF-8-SIG', index = True)\n",
    "    return"
   ]
  },
  {
   "cell_type": "code",
   "execution_count": 5,
   "metadata": {
    "ExecuteTime": {
     "end_time": "2021-03-28T15:09:22.431884Z",
     "start_time": "2021-03-28T15:09:22.399969Z"
    }
   },
   "outputs": [],
   "source": [
    "def merge_comp_data():\n",
    "    data_lst_a = os.listdir(A_PATH)\n",
    "    for name in data_lst_a:\n",
    "        globals()['comp_' + name[:6]] = pd.read_csv(A_PATH + name, encoding = 'UTF-8-SIG', index_col = 0)\n",
    "    \n",
    "    comp_lst = [comp_2016_1, comp_2016_2, comp_2017_1, comp_2017_2, comp_2018_1, comp_2018_2, comp_2019_1, \n",
    "                          comp_2019_2, comp_2020_1, comp_2020_2, comp_2021_1]\n",
    "    \n",
    "    comp_merged = reduce(lambda  left, right: pd.merge(left, right, on = ['과목코드-분반', '과목명'], how = 'outer'), comp_lst)\n",
    "    comp_merged.to_csv(A_PATH + 'competition.csv', encoding = 'UTF-8-SIG', index = True)\n",
    "    return"
   ]
  },
  {
   "cell_type": "code",
   "execution_count": 6,
   "metadata": {
    "ExecuteTime": {
     "end_time": "2021-03-28T15:09:22.970442Z",
     "start_time": "2021-03-28T15:09:22.437868Z"
    }
   },
   "outputs": [],
   "source": [
    "make_comp_data()"
   ]
  },
  {
   "cell_type": "code",
   "execution_count": 7,
   "metadata": {
    "ExecuteTime": {
     "end_time": "2021-03-28T15:09:23.728416Z",
     "start_time": "2021-03-28T15:09:22.977424Z"
    }
   },
   "outputs": [],
   "source": [
    "merge_comp_data()"
   ]
  }
 ],
 "metadata": {
  "kernelspec": {
   "display_name": "Python 3",
   "language": "python",
   "name": "python3"
  },
  "language_info": {
   "codemirror_mode": {
    "name": "ipython",
    "version": 3
   },
   "file_extension": ".py",
   "mimetype": "text/x-python",
   "name": "python",
   "nbconvert_exporter": "python",
   "pygments_lexer": "ipython3",
   "version": "3.7.4"
  },
  "toc": {
   "base_numbering": 1,
   "nav_menu": {},
   "number_sections": true,
   "sideBar": true,
   "skip_h1_title": false,
   "title_cell": "Table of Contents",
   "title_sidebar": "Contents",
   "toc_cell": false,
   "toc_position": {},
   "toc_section_display": true,
   "toc_window_display": false
  },
  "varInspector": {
   "cols": {
    "lenName": 16,
    "lenType": 16,
    "lenVar": 40
   },
   "kernels_config": {
    "python": {
     "delete_cmd_postfix": "",
     "delete_cmd_prefix": "del ",
     "library": "var_list.py",
     "varRefreshCmd": "print(var_dic_list())"
    },
    "r": {
     "delete_cmd_postfix": ") ",
     "delete_cmd_prefix": "rm(",
     "library": "var_list.r",
     "varRefreshCmd": "cat(var_dic_list()) "
    }
   },
   "types_to_exclude": [
    "module",
    "function",
    "builtin_function_or_method",
    "instance",
    "_Feature"
   ],
   "window_display": false
  }
 },
 "nbformat": 4,
 "nbformat_minor": 5
}
