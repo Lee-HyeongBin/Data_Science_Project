{
 "cells": [
  {
   "cell_type": "markdown",
   "metadata": {},
   "source": [
    "# 라이브러리 호출"
   ]
  },
  {
   "cell_type": "code",
   "execution_count": 1,
   "metadata": {
    "ExecuteTime": {
     "end_time": "2021-03-29T06:50:09.888232Z",
     "start_time": "2021-03-29T06:50:08.494956Z"
    }
   },
   "outputs": [],
   "source": [
    "import pandas as pd\n",
    "import chardet\n",
    "import os"
   ]
  },
  {
   "cell_type": "code",
   "execution_count": 2,
   "metadata": {
    "ExecuteTime": {
     "end_time": "2021-03-29T06:50:09.903189Z",
     "start_time": "2021-03-29T06:50:09.892216Z"
    }
   },
   "outputs": [],
   "source": [
    "# 경로 설정(Before)\n",
    "\n",
    "B_PATH = './data/course_lst(before)/'\n",
    "A_PATH = './data/course_lst(after)/'\n",
    "data_lst_b = os.listdir(B_PATH)"
   ]
  },
  {
   "cell_type": "code",
   "execution_count": 3,
   "metadata": {
    "ExecuteTime": {
     "end_time": "2021-03-29T06:50:09.947069Z",
     "start_time": "2021-03-29T06:50:09.910167Z"
    }
   },
   "outputs": [],
   "source": [
    "# 인코딩 확인\n",
    "for name in data_lst_b:\n",
    "    with open(B_PATH + name, 'rb') as f:\n",
    "        result = chardet.detect(f.readline())\n",
    "        if result['encoding'] != 'UTF-8-SIG':\n",
    "            print('인코딩 확인이 필요합니다.')"
   ]
  },
  {
   "cell_type": "markdown",
   "metadata": {},
   "source": [
    "# 데이터 전처리"
   ]
  },
  {
   "cell_type": "markdown",
   "metadata": {},
   "source": [
    "## 시간표 크롤링용 리스트 만들기"
   ]
  },
  {
   "cell_type": "code",
   "execution_count": 4,
   "metadata": {
    "ExecuteTime": {
     "end_time": "2021-03-29T06:50:09.976987Z",
     "start_time": "2021-03-29T06:50:09.953052Z"
    }
   },
   "outputs": [],
   "source": [
    "course_lst_16_1 = []\n",
    "course_lst_16_2 = []\n",
    "course_lst_17_1 = []\n",
    "course_lst_17_2 = []\n",
    "course_lst_18_1 = []\n",
    "course_lst_18_2 = []\n",
    "course_lst_19_1 = []\n",
    "course_lst_19_2 = []\n",
    "course_lst_20_1 = []\n",
    "course_lst_20_2 = []\n",
    "course_lst_21_1 = []"
   ]
  },
  {
   "cell_type": "code",
   "execution_count": 5,
   "metadata": {
    "ExecuteTime": {
     "end_time": "2021-03-29T06:50:10.533498Z",
     "start_time": "2021-03-29T06:50:09.983969Z"
    }
   },
   "outputs": [],
   "source": [
    "course = pd.read_csv(B_PATH + data_lst_b[0], encoding = 'UTF-8-SIG')\n",
    "course_lst_16_1 += list(course['과목명'])\n",
    "course_lst_16_1 = pd.DataFrame(course_lst_16_1, columns = ['과목명'])\n",
    "course_lst_16_1 = pd.DataFrame(course_lst_16_1, columns = ['과목명'])\n",
    "(course_lst_16_1.과목명).to_csv(A_PATH + 'course_lst_16_1.txt', sep = ',', index = False)\n",
    "\n",
    "course = pd.read_csv(B_PATH + data_lst_b[1], encoding = 'UTF-8-SIG')\n",
    "course_lst_16_2 += list(course['과목명'])\n",
    "course_lst_16_2 = pd.DataFrame(course_lst_16_2, columns = ['과목명'])\n",
    "course_lst_16_2 = pd.DataFrame(course_lst_16_2, columns = ['과목명'])\n",
    "(course_lst_16_2.과목명).to_csv(A_PATH + 'course_lst_16_2.txt', sep = ',', index = False)\n",
    "\n",
    "course = pd.read_csv(B_PATH + data_lst_b[2], encoding = 'UTF-8-SIG')\n",
    "course_lst_17_1 += list(course['과목명'])\n",
    "course_lst_17_1 = pd.DataFrame(course_lst_17_1, columns = ['과목명'])\n",
    "course_lst_17_1 = pd.DataFrame(course_lst_17_1, columns = ['과목명'])\n",
    "(course_lst_17_1.과목명).to_csv(A_PATH + 'course_lst_17_1.txt', sep = ',', index = False)\n",
    "\n",
    "course = pd.read_csv(B_PATH + data_lst_b[3], encoding = 'UTF-8-SIG')\n",
    "course_lst_17_2 += list(course['과목명'])\n",
    "course_lst_17_2 = pd.DataFrame(course_lst_17_2, columns = ['과목명'])\n",
    "course_lst_17_2 = pd.DataFrame(course_lst_17_2, columns = ['과목명'])\n",
    "(course_lst_17_2.과목명).to_csv(A_PATH + 'course_lst_17_2.txt', sep = ',', index = False)\n",
    "\n",
    "course = pd.read_csv(B_PATH + data_lst_b[4], encoding = 'UTF-8-SIG')\n",
    "course_lst_18_1 += list(course['과목명'])\n",
    "course_lst_18_1 = pd.DataFrame(course_lst_18_1, columns = ['과목명'])\n",
    "course_lst_18_1 = pd.DataFrame(course_lst_18_1, columns = ['과목명'])\n",
    "(course_lst_18_1.과목명).to_csv(A_PATH + 'course_lst_18_1.txt', sep = ',', index = False)\n",
    "\n",
    "course = pd.read_csv(B_PATH + data_lst_b[5], encoding = 'UTF-8-SIG')\n",
    "course_lst_18_2 += list(course['과목명'])\n",
    "course_lst_18_2 = pd.DataFrame(course_lst_18_2, columns = ['과목명'])\n",
    "course_lst_18_2 = pd.DataFrame(course_lst_18_2, columns = ['과목명'])\n",
    "(course_lst_18_2.과목명).to_csv(A_PATH + 'course_lst_18_2.txt', sep = ',', index = False)\n",
    "\n",
    "course = pd.read_csv(B_PATH + data_lst_b[6], encoding = 'UTF-8-SIG')\n",
    "course_lst_19_1 += list(course['과목명'])\n",
    "course_lst_19_1 = pd.DataFrame(course_lst_19_1, columns = ['과목명'])\n",
    "course_lst_19_1 = pd.DataFrame(course_lst_19_1, columns = ['과목명'])\n",
    "(course_lst_19_1.과목명).to_csv(A_PATH + 'course_lst_19_1.txt', sep = ',', index = False)\n",
    "\n",
    "course = pd.read_csv(B_PATH + data_lst_b[7], encoding = 'UTF-8-SIG')\n",
    "course_lst_19_2 += list(course['과목명'])\n",
    "course_lst_19_2 = pd.DataFrame(course_lst_19_2, columns = ['과목명'])\n",
    "course_lst_19_2 = pd.DataFrame(course_lst_19_2, columns = ['과목명'])\n",
    "(course_lst_19_2.과목명).to_csv(A_PATH + 'course_lst_19_2.txt', sep = ',', index = False)\n",
    "\n",
    "course = pd.read_csv(B_PATH + data_lst_b[8], encoding = 'UTF-8-SIG')\n",
    "course_lst_20_1 += list(course['과목명'])\n",
    "course_lst_20_1 = pd.DataFrame(course_lst_20_1, columns = ['과목명'])\n",
    "course_lst_20_1 = pd.DataFrame(course_lst_20_1, columns = ['과목명'])\n",
    "(course_lst_20_1.과목명).to_csv(A_PATH + 'course_lst_20_1.txt', sep = ',', index = False)\n",
    "\n",
    "course = pd.read_csv(B_PATH + data_lst_b[9], encoding = 'UTF-8-SIG')\n",
    "course_lst_20_2 += list(course['과목명'])\n",
    "course_lst_20_2 = pd.DataFrame(course_lst_20_2, columns = ['과목명'])\n",
    "course_lst_20_2 = pd.DataFrame(course_lst_20_2, columns = ['과목명'])\n",
    "(course_lst_20_2.과목명).to_csv(A_PATH + 'course_lst_20_2.txt', sep = ',', index = False)\n",
    "\n",
    "course = pd.read_csv(B_PATH + data_lst_b[10], encoding = 'UTF-8-SIG')\n",
    "course_lst_21_1 += list(course['과목명'])\n",
    "course_lst_21_1 = pd.DataFrame(course_lst_21_1, columns = ['과목명'])\n",
    "course_lst_21_1 = pd.DataFrame(course_lst_21_1, columns = ['과목명'])\n",
    "(course_lst_21_1.과목명).to_csv(A_PATH + 'course_lst_21_1.txt', sep = ',', index = False)"
   ]
  },
  {
   "cell_type": "markdown",
   "metadata": {},
   "source": [
    "## 강의평가 크롤링용 리스트 만들기"
   ]
  },
  {
   "cell_type": "code",
   "execution_count": 6,
   "metadata": {
    "ExecuteTime": {
     "end_time": "2021-03-29T06:50:11.004238Z",
     "start_time": "2021-03-29T06:50:10.537488Z"
    }
   },
   "outputs": [],
   "source": [
    "course_lst = []\n",
    "\n",
    "for name in data_lst_b:\n",
    "    if name != 'courses_2021_1.csv':\n",
    "        course = pd.read_csv(B_PATH + name, encoding = 'UTF-8-SIG')\n",
    "        course_lst += list(course['과목명'])\n",
    "    else:\n",
    "        course = pd.read_csv(B_PATH + name, encoding = 'UTF-8-SIG')\n",
    "        course_lst += list(course['과목명'])\n",
    "        course_lst = sorted(list(set(course_lst)))"
   ]
  },
  {
   "cell_type": "code",
   "execution_count": 7,
   "metadata": {
    "ExecuteTime": {
     "end_time": "2021-03-29T06:50:11.024186Z",
     "start_time": "2021-03-29T06:50:11.012218Z"
    }
   },
   "outputs": [],
   "source": [
    "course_lst = pd.DataFrame(course_lst, columns = ['과목명'])"
   ]
  },
  {
   "cell_type": "code",
   "execution_count": 8,
   "metadata": {
    "ExecuteTime": {
     "end_time": "2021-03-29T06:50:11.084027Z",
     "start_time": "2021-03-29T06:50:11.045130Z"
    }
   },
   "outputs": [],
   "source": [
    "course_lst = pd.DataFrame(course_lst, columns = ['과목명'])\n",
    "(course_lst.과목명).to_csv(A_PATH + 'course_lst_total.txt', sep = ',', index = False)"
   ]
  }
 ],
 "metadata": {
  "kernelspec": {
   "display_name": "Python 3",
   "language": "python",
   "name": "python3"
  },
  "language_info": {
   "codemirror_mode": {
    "name": "ipython",
    "version": 3
   },
   "file_extension": ".py",
   "mimetype": "text/x-python",
   "name": "python",
   "nbconvert_exporter": "python",
   "pygments_lexer": "ipython3",
   "version": "3.7.4"
  },
  "toc": {
   "base_numbering": 1,
   "nav_menu": {},
   "number_sections": true,
   "sideBar": true,
   "skip_h1_title": false,
   "title_cell": "Table of Contents",
   "title_sidebar": "Contents",
   "toc_cell": false,
   "toc_position": {},
   "toc_section_display": true,
   "toc_window_display": false
  },
  "varInspector": {
   "cols": {
    "lenName": 16,
    "lenType": 16,
    "lenVar": 40
   },
   "kernels_config": {
    "python": {
     "delete_cmd_postfix": "",
     "delete_cmd_prefix": "del ",
     "library": "var_list.py",
     "varRefreshCmd": "print(var_dic_list())"
    },
    "r": {
     "delete_cmd_postfix": ") ",
     "delete_cmd_prefix": "rm(",
     "library": "var_list.r",
     "varRefreshCmd": "cat(var_dic_list()) "
    }
   },
   "types_to_exclude": [
    "module",
    "function",
    "builtin_function_or_method",
    "instance",
    "_Feature"
   ],
   "window_display": false
  }
 },
 "nbformat": 4,
 "nbformat_minor": 4
}
